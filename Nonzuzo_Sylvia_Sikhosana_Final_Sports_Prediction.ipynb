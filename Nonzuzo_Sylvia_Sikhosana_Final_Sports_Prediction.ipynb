{
 "cells": [
  {
   "cell_type": "markdown",
   "id": "h5yBVGaTOpvQ",
   "metadata": {
    "id": "h5yBVGaTOpvQ"
   },
   "source": [
    "Question 1"
   ]
  },
  {
   "cell_type": "code",
   "execution_count": 1,
   "id": "07a3183f-66b8-4e44-972d-672f8ee36d6b",
   "metadata": {
    "id": "07a3183f-66b8-4e44-972d-672f8ee36d6b"
   },
   "outputs": [],
   "source": [
    "import pandas as pd\n",
    "import numpy as np\n",
    "import re\n",
    "from datetime import datetime"
   ]
  },
  {
   "cell_type": "code",
   "execution_count": 2,
   "id": "26ee2624-cfe6-4956-afd2-5e741869e2c1",
   "metadata": {
    "colab": {
     "base_uri": "https://localhost:8080/"
    },
    "id": "26ee2624-cfe6-4956-afd2-5e741869e2c1",
    "outputId": "27b378aa-1188-43d3-8abb-b0ffb2e0aad7"
   },
   "outputs": [],
   "source": [
    "#loading the data sets\n",
    "#from google.colab import drive\n",
    "#drive.mount('/content/drive')\n",
    "#test_df= pd.read_csv('/content/drive/My Drive/players_22.csv',low_memory=False)# testing (players_22)\n",
    "train_df= pd.read_csv('male_players.csv',low_memory= False)# training(males)}"
   ]
  },
  {
   "cell_type": "code",
   "execution_count": 3,
   "id": "iJXlo7zuhdHm",
   "metadata": {
    "colab": {
     "base_uri": "https://localhost:8080/",
     "height": 412
    },
    "id": "iJXlo7zuhdHm",
    "outputId": "4d7ece93-16c3-4883-d379-6cdfabbb6e48"
   },
   "outputs": [
    {
     "data": {
      "text/html": [
       "<div>\n",
       "<style scoped>\n",
       "    .dataframe tbody tr th:only-of-type {\n",
       "        vertical-align: middle;\n",
       "    }\n",
       "\n",
       "    .dataframe tbody tr th {\n",
       "        vertical-align: top;\n",
       "    }\n",
       "\n",
       "    .dataframe thead th {\n",
       "        text-align: right;\n",
       "    }\n",
       "</style>\n",
       "<table border=\"1\" class=\"dataframe\">\n",
       "  <thead>\n",
       "    <tr style=\"text-align: right;\">\n",
       "      <th></th>\n",
       "      <th>player_id</th>\n",
       "      <th>player_url</th>\n",
       "      <th>fifa_version</th>\n",
       "      <th>fifa_update</th>\n",
       "      <th>fifa_update_date</th>\n",
       "      <th>short_name</th>\n",
       "      <th>long_name</th>\n",
       "      <th>player_positions</th>\n",
       "      <th>overall</th>\n",
       "      <th>potential</th>\n",
       "      <th>...</th>\n",
       "      <th>cdm</th>\n",
       "      <th>rdm</th>\n",
       "      <th>rwb</th>\n",
       "      <th>lb</th>\n",
       "      <th>lcb</th>\n",
       "      <th>cb</th>\n",
       "      <th>rcb</th>\n",
       "      <th>rb</th>\n",
       "      <th>gk</th>\n",
       "      <th>player_face_url</th>\n",
       "    </tr>\n",
       "  </thead>\n",
       "  <tbody>\n",
       "    <tr>\n",
       "      <th>0</th>\n",
       "      <td>158023</td>\n",
       "      <td>/player/158023/lionel-messi/150002</td>\n",
       "      <td>15</td>\n",
       "      <td>2</td>\n",
       "      <td>2014-09-18</td>\n",
       "      <td>L. Messi</td>\n",
       "      <td>Lionel Andrés Messi Cuccittini</td>\n",
       "      <td>CF</td>\n",
       "      <td>93</td>\n",
       "      <td>95</td>\n",
       "      <td>...</td>\n",
       "      <td>62+3</td>\n",
       "      <td>62+3</td>\n",
       "      <td>62+3</td>\n",
       "      <td>54+3</td>\n",
       "      <td>45+3</td>\n",
       "      <td>45+3</td>\n",
       "      <td>45+3</td>\n",
       "      <td>54+3</td>\n",
       "      <td>15+3</td>\n",
       "      <td>https://cdn.sofifa.net/players/158/023/15_120.png</td>\n",
       "    </tr>\n",
       "    <tr>\n",
       "      <th>1</th>\n",
       "      <td>20801</td>\n",
       "      <td>/player/20801/c-ronaldo-dos-santos-aveiro/150002</td>\n",
       "      <td>15</td>\n",
       "      <td>2</td>\n",
       "      <td>2014-09-18</td>\n",
       "      <td>Cristiano Ronaldo</td>\n",
       "      <td>Cristiano Ronaldo dos Santos Aveiro</td>\n",
       "      <td>LW, LM</td>\n",
       "      <td>92</td>\n",
       "      <td>92</td>\n",
       "      <td>...</td>\n",
       "      <td>63+3</td>\n",
       "      <td>63+3</td>\n",
       "      <td>63+3</td>\n",
       "      <td>57+3</td>\n",
       "      <td>52+3</td>\n",
       "      <td>52+3</td>\n",
       "      <td>52+3</td>\n",
       "      <td>57+3</td>\n",
       "      <td>16+3</td>\n",
       "      <td>https://cdn.sofifa.net/players/020/801/15_120.png</td>\n",
       "    </tr>\n",
       "    <tr>\n",
       "      <th>2</th>\n",
       "      <td>9014</td>\n",
       "      <td>/player/9014/arjen-robben/150002</td>\n",
       "      <td>15</td>\n",
       "      <td>2</td>\n",
       "      <td>2014-09-18</td>\n",
       "      <td>A. Robben</td>\n",
       "      <td>Arjen Robben</td>\n",
       "      <td>RM, LM, RW</td>\n",
       "      <td>90</td>\n",
       "      <td>90</td>\n",
       "      <td>...</td>\n",
       "      <td>64+3</td>\n",
       "      <td>64+3</td>\n",
       "      <td>64+3</td>\n",
       "      <td>55+3</td>\n",
       "      <td>46+3</td>\n",
       "      <td>46+3</td>\n",
       "      <td>46+3</td>\n",
       "      <td>55+3</td>\n",
       "      <td>14+3</td>\n",
       "      <td>https://cdn.sofifa.net/players/009/014/15_120.png</td>\n",
       "    </tr>\n",
       "    <tr>\n",
       "      <th>3</th>\n",
       "      <td>41236</td>\n",
       "      <td>/player/41236/zlatan-ibrahimovic/150002</td>\n",
       "      <td>15</td>\n",
       "      <td>2</td>\n",
       "      <td>2014-09-18</td>\n",
       "      <td>Z. Ibrahimović</td>\n",
       "      <td>Zlatan Ibrahimović</td>\n",
       "      <td>ST</td>\n",
       "      <td>90</td>\n",
       "      <td>90</td>\n",
       "      <td>...</td>\n",
       "      <td>65+3</td>\n",
       "      <td>65+3</td>\n",
       "      <td>61+3</td>\n",
       "      <td>56+3</td>\n",
       "      <td>55+3</td>\n",
       "      <td>55+3</td>\n",
       "      <td>55+3</td>\n",
       "      <td>56+3</td>\n",
       "      <td>17+3</td>\n",
       "      <td>https://cdn.sofifa.net/players/041/236/15_120.png</td>\n",
       "    </tr>\n",
       "    <tr>\n",
       "      <th>4</th>\n",
       "      <td>167495</td>\n",
       "      <td>/player/167495/manuel-neuer/150002</td>\n",
       "      <td>15</td>\n",
       "      <td>2</td>\n",
       "      <td>2014-09-18</td>\n",
       "      <td>M. Neuer</td>\n",
       "      <td>Manuel Peter Neuer</td>\n",
       "      <td>GK</td>\n",
       "      <td>90</td>\n",
       "      <td>90</td>\n",
       "      <td>...</td>\n",
       "      <td>40+3</td>\n",
       "      <td>40+3</td>\n",
       "      <td>36+3</td>\n",
       "      <td>36+3</td>\n",
       "      <td>38+3</td>\n",
       "      <td>38+3</td>\n",
       "      <td>38+3</td>\n",
       "      <td>36+3</td>\n",
       "      <td>87+3</td>\n",
       "      <td>https://cdn.sofifa.net/players/167/495/15_120.png</td>\n",
       "    </tr>\n",
       "  </tbody>\n",
       "</table>\n",
       "<p>5 rows × 110 columns</p>\n",
       "</div>"
      ],
      "text/plain": [
       "   player_id                                        player_url  fifa_version  \\\n",
       "0     158023                /player/158023/lionel-messi/150002            15   \n",
       "1      20801  /player/20801/c-ronaldo-dos-santos-aveiro/150002            15   \n",
       "2       9014                  /player/9014/arjen-robben/150002            15   \n",
       "3      41236           /player/41236/zlatan-ibrahimovic/150002            15   \n",
       "4     167495                /player/167495/manuel-neuer/150002            15   \n",
       "\n",
       "   fifa_update fifa_update_date         short_name  \\\n",
       "0            2       2014-09-18           L. Messi   \n",
       "1            2       2014-09-18  Cristiano Ronaldo   \n",
       "2            2       2014-09-18          A. Robben   \n",
       "3            2       2014-09-18     Z. Ibrahimović   \n",
       "4            2       2014-09-18           M. Neuer   \n",
       "\n",
       "                             long_name player_positions  overall  potential  \\\n",
       "0       Lionel Andrés Messi Cuccittini               CF       93         95   \n",
       "1  Cristiano Ronaldo dos Santos Aveiro           LW, LM       92         92   \n",
       "2                         Arjen Robben       RM, LM, RW       90         90   \n",
       "3                   Zlatan Ibrahimović               ST       90         90   \n",
       "4                   Manuel Peter Neuer               GK       90         90   \n",
       "\n",
       "   ...   cdm   rdm   rwb    lb   lcb    cb   rcb    rb    gk  \\\n",
       "0  ...  62+3  62+3  62+3  54+3  45+3  45+3  45+3  54+3  15+3   \n",
       "1  ...  63+3  63+3  63+3  57+3  52+3  52+3  52+3  57+3  16+3   \n",
       "2  ...  64+3  64+3  64+3  55+3  46+3  46+3  46+3  55+3  14+3   \n",
       "3  ...  65+3  65+3  61+3  56+3  55+3  55+3  55+3  56+3  17+3   \n",
       "4  ...  40+3  40+3  36+3  36+3  38+3  38+3  38+3  36+3  87+3   \n",
       "\n",
       "                                     player_face_url  \n",
       "0  https://cdn.sofifa.net/players/158/023/15_120.png  \n",
       "1  https://cdn.sofifa.net/players/020/801/15_120.png  \n",
       "2  https://cdn.sofifa.net/players/009/014/15_120.png  \n",
       "3  https://cdn.sofifa.net/players/041/236/15_120.png  \n",
       "4  https://cdn.sofifa.net/players/167/495/15_120.png  \n",
       "\n",
       "[5 rows x 110 columns]"
      ]
     },
     "execution_count": 3,
     "metadata": {},
     "output_type": "execute_result"
    }
   ],
   "source": [
    "train_df.head()"
   ]
  },
  {
   "cell_type": "code",
   "execution_count": 4,
   "id": "xFO9OGdOnRge",
   "metadata": {
    "colab": {
     "base_uri": "https://localhost:8080/"
    },
    "id": "xFO9OGdOnRge",
    "outputId": "430a7e2c-8626-4e28-ced0-d0ae2a5fae7f"
   },
   "outputs": [
    {
     "data": {
      "text/plain": [
       "['player_id',\n",
       " 'player_url',\n",
       " 'fifa_version',\n",
       " 'fifa_update',\n",
       " 'fifa_update_date',\n",
       " 'short_name',\n",
       " 'long_name',\n",
       " 'player_positions',\n",
       " 'overall',\n",
       " 'potential',\n",
       " 'value_eur',\n",
       " 'wage_eur',\n",
       " 'age',\n",
       " 'dob',\n",
       " 'height_cm',\n",
       " 'weight_kg',\n",
       " 'league_id',\n",
       " 'league_name',\n",
       " 'league_level',\n",
       " 'club_team_id',\n",
       " 'club_name',\n",
       " 'club_position',\n",
       " 'club_jersey_number',\n",
       " 'club_loaned_from',\n",
       " 'club_joined_date',\n",
       " 'club_contract_valid_until_year',\n",
       " 'nationality_id',\n",
       " 'nationality_name',\n",
       " 'nation_team_id',\n",
       " 'nation_position',\n",
       " 'nation_jersey_number',\n",
       " 'preferred_foot',\n",
       " 'weak_foot',\n",
       " 'skill_moves',\n",
       " 'international_reputation',\n",
       " 'work_rate',\n",
       " 'body_type',\n",
       " 'real_face',\n",
       " 'release_clause_eur',\n",
       " 'player_tags',\n",
       " 'player_traits',\n",
       " 'pace',\n",
       " 'shooting',\n",
       " 'passing',\n",
       " 'dribbling',\n",
       " 'defending',\n",
       " 'physic',\n",
       " 'attacking_crossing',\n",
       " 'attacking_finishing',\n",
       " 'attacking_heading_accuracy',\n",
       " 'attacking_short_passing',\n",
       " 'attacking_volleys',\n",
       " 'skill_dribbling',\n",
       " 'skill_curve',\n",
       " 'skill_fk_accuracy',\n",
       " 'skill_long_passing',\n",
       " 'skill_ball_control',\n",
       " 'movement_acceleration',\n",
       " 'movement_sprint_speed',\n",
       " 'movement_agility',\n",
       " 'movement_reactions',\n",
       " 'movement_balance',\n",
       " 'power_shot_power',\n",
       " 'power_jumping',\n",
       " 'power_stamina',\n",
       " 'power_strength',\n",
       " 'power_long_shots',\n",
       " 'mentality_aggression',\n",
       " 'mentality_interceptions',\n",
       " 'mentality_positioning',\n",
       " 'mentality_vision',\n",
       " 'mentality_penalties',\n",
       " 'mentality_composure',\n",
       " 'defending_marking_awareness',\n",
       " 'defending_standing_tackle',\n",
       " 'defending_sliding_tackle',\n",
       " 'goalkeeping_diving',\n",
       " 'goalkeeping_handling',\n",
       " 'goalkeeping_kicking',\n",
       " 'goalkeeping_positioning',\n",
       " 'goalkeeping_reflexes',\n",
       " 'goalkeeping_speed',\n",
       " 'ls',\n",
       " 'st',\n",
       " 'rs',\n",
       " 'lw',\n",
       " 'lf',\n",
       " 'cf',\n",
       " 'rf',\n",
       " 'rw',\n",
       " 'lam',\n",
       " 'cam',\n",
       " 'ram',\n",
       " 'lm',\n",
       " 'lcm',\n",
       " 'cm',\n",
       " 'rcm',\n",
       " 'rm',\n",
       " 'lwb',\n",
       " 'ldm',\n",
       " 'cdm',\n",
       " 'rdm',\n",
       " 'rwb',\n",
       " 'lb',\n",
       " 'lcb',\n",
       " 'cb',\n",
       " 'rcb',\n",
       " 'rb',\n",
       " 'gk',\n",
       " 'player_face_url']"
      ]
     },
     "execution_count": 4,
     "metadata": {},
     "output_type": "execute_result"
    }
   ],
   "source": [
    "train_df.columns.tolist()"
   ]
  },
  {
   "cell_type": "code",
   "execution_count": 5,
   "id": "ed6a3430-6b32-4669-8474-c77b4882103d",
   "metadata": {
    "colab": {
     "base_uri": "https://localhost:8080/"
    },
    "id": "ed6a3430-6b32-4669-8474-c77b4882103d",
    "outputId": "878bddaa-85ba-4d72-8684-effc594bdc4d"
   },
   "outputs": [
    {
     "name": "stdout",
     "output_type": "stream",
     "text": [
      "<class 'pandas.core.frame.DataFrame'>\n",
      "RangeIndex: 161583 entries, 0 to 161582\n",
      "Columns: 110 entries, player_id to player_face_url\n",
      "dtypes: float64(18), int64(45), object(47)\n",
      "memory usage: 135.6+ MB\n",
      "None\n"
     ]
    }
   ],
   "source": [
    "print(train_df.info())"
   ]
  },
  {
   "cell_type": "code",
   "execution_count": 6,
   "id": "f7642a03-558e-4100-9bae-4bb74f8f684a",
   "metadata": {
    "colab": {
     "base_uri": "https://localhost:8080/"
    },
    "id": "f7642a03-558e-4100-9bae-4bb74f8f684a",
    "outputId": "d0e725e2-5326-48a5-d03c-5ccfa0ddcf53"
   },
   "outputs": [
    {
     "name": "stdout",
     "output_type": "stream",
     "text": [
      "player_id           0\n",
      "player_url          0\n",
      "fifa_version        0\n",
      "fifa_update         0\n",
      "fifa_update_date    0\n",
      "                   ..\n",
      "cb                  0\n",
      "rcb                 0\n",
      "rb                  0\n",
      "gk                  0\n",
      "player_face_url     0\n",
      "Length: 110, dtype: int64 \n",
      "\n",
      "\n"
     ]
    }
   ],
   "source": [
    "print(train_df.isnull().sum(), \"\\n\\n\")"
   ]
  },
  {
   "cell_type": "code",
   "execution_count": 7,
   "id": "281f725b-8341-4308-8f1a-b1786ccf46b1",
   "metadata": {
    "id": "281f725b-8341-4308-8f1a-b1786ccf46b1"
   },
   "outputs": [],
   "source": [
    "# Handling the missing values , drop all that have 30% of null values\n",
    "threshold_train = len(train_df) * 0.3\n",
    " \n"
   ]
  },
  {
   "cell_type": "code",
   "execution_count": 8,
   "id": "8a999bd8-10c6-4fb8-aef8-8a53459ad12d",
   "metadata": {
    "id": "8a999bd8-10c6-4fb8-aef8-8a53459ad12d"
   },
   "outputs": [],
   "source": [
    "train_df = train_df.dropna(thresh=len(train_df) - threshold_train, axis=1)\n",
    " "
   ]
  },
  {
   "cell_type": "code",
   "execution_count": 9,
   "id": "abb6e92d-4a18-4f9d-aa24-8eeccf5993a2",
   "metadata": {
    "colab": {
     "base_uri": "https://localhost:8080/"
    },
    "id": "abb6e92d-4a18-4f9d-aa24-8eeccf5993a2",
    "outputId": "f7a13185-2879-4810-be3e-7424498a455a"
   },
   "outputs": [
    {
     "name": "stdout",
     "output_type": "stream",
     "text": [
      "<class 'pandas.core.frame.DataFrame'>\n",
      "RangeIndex: 161583 entries, 0 to 161582\n",
      "Columns: 102 entries, player_id to player_face_url\n",
      "dtypes: float64(14), int64(45), object(43)\n",
      "memory usage: 125.7+ MB\n"
     ]
    }
   ],
   "source": [
    "train_df.info()"
   ]
  },
  {
   "cell_type": "code",
   "execution_count": 10,
   "id": "qx5oeUtLgMwL",
   "metadata": {
    "colab": {
     "base_uri": "https://localhost:8080/",
     "height": 687
    },
    "id": "qx5oeUtLgMwL",
    "outputId": "cf8fe926-7d45-45bc-fa39-ade58ef725a8"
   },
   "outputs": [
    {
     "data": {
      "text/html": [
       "<div>\n",
       "<style scoped>\n",
       "    .dataframe tbody tr th:only-of-type {\n",
       "        vertical-align: middle;\n",
       "    }\n",
       "\n",
       "    .dataframe tbody tr th {\n",
       "        vertical-align: top;\n",
       "    }\n",
       "\n",
       "    .dataframe thead th {\n",
       "        text-align: right;\n",
       "    }\n",
       "</style>\n",
       "<table border=\"1\" class=\"dataframe\">\n",
       "  <thead>\n",
       "    <tr style=\"text-align: right;\">\n",
       "      <th></th>\n",
       "      <th>player_id</th>\n",
       "      <th>player_url</th>\n",
       "      <th>fifa_version</th>\n",
       "      <th>fifa_update</th>\n",
       "      <th>fifa_update_date</th>\n",
       "      <th>short_name</th>\n",
       "      <th>long_name</th>\n",
       "      <th>player_positions</th>\n",
       "      <th>overall</th>\n",
       "      <th>potential</th>\n",
       "      <th>...</th>\n",
       "      <th>cdm</th>\n",
       "      <th>rdm</th>\n",
       "      <th>rwb</th>\n",
       "      <th>lb</th>\n",
       "      <th>lcb</th>\n",
       "      <th>cb</th>\n",
       "      <th>rcb</th>\n",
       "      <th>rb</th>\n",
       "      <th>gk</th>\n",
       "      <th>player_face_url</th>\n",
       "    </tr>\n",
       "  </thead>\n",
       "  <tbody>\n",
       "    <tr>\n",
       "      <th>0</th>\n",
       "      <td>158023</td>\n",
       "      <td>/player/158023/lionel-messi/150002</td>\n",
       "      <td>15</td>\n",
       "      <td>2</td>\n",
       "      <td>2014-09-18</td>\n",
       "      <td>L. Messi</td>\n",
       "      <td>Lionel Andrés Messi Cuccittini</td>\n",
       "      <td>CF</td>\n",
       "      <td>93</td>\n",
       "      <td>95</td>\n",
       "      <td>...</td>\n",
       "      <td>62+3</td>\n",
       "      <td>62+3</td>\n",
       "      <td>62+3</td>\n",
       "      <td>54+3</td>\n",
       "      <td>45+3</td>\n",
       "      <td>45+3</td>\n",
       "      <td>45+3</td>\n",
       "      <td>54+3</td>\n",
       "      <td>15+3</td>\n",
       "      <td>https://cdn.sofifa.net/players/158/023/15_120.png</td>\n",
       "    </tr>\n",
       "    <tr>\n",
       "      <th>1</th>\n",
       "      <td>20801</td>\n",
       "      <td>/player/20801/c-ronaldo-dos-santos-aveiro/150002</td>\n",
       "      <td>15</td>\n",
       "      <td>2</td>\n",
       "      <td>2014-09-18</td>\n",
       "      <td>Cristiano Ronaldo</td>\n",
       "      <td>Cristiano Ronaldo dos Santos Aveiro</td>\n",
       "      <td>LW, LM</td>\n",
       "      <td>92</td>\n",
       "      <td>92</td>\n",
       "      <td>...</td>\n",
       "      <td>63+3</td>\n",
       "      <td>63+3</td>\n",
       "      <td>63+3</td>\n",
       "      <td>57+3</td>\n",
       "      <td>52+3</td>\n",
       "      <td>52+3</td>\n",
       "      <td>52+3</td>\n",
       "      <td>57+3</td>\n",
       "      <td>16+3</td>\n",
       "      <td>https://cdn.sofifa.net/players/020/801/15_120.png</td>\n",
       "    </tr>\n",
       "    <tr>\n",
       "      <th>2</th>\n",
       "      <td>9014</td>\n",
       "      <td>/player/9014/arjen-robben/150002</td>\n",
       "      <td>15</td>\n",
       "      <td>2</td>\n",
       "      <td>2014-09-18</td>\n",
       "      <td>A. Robben</td>\n",
       "      <td>Arjen Robben</td>\n",
       "      <td>RM, LM, RW</td>\n",
       "      <td>90</td>\n",
       "      <td>90</td>\n",
       "      <td>...</td>\n",
       "      <td>64+3</td>\n",
       "      <td>64+3</td>\n",
       "      <td>64+3</td>\n",
       "      <td>55+3</td>\n",
       "      <td>46+3</td>\n",
       "      <td>46+3</td>\n",
       "      <td>46+3</td>\n",
       "      <td>55+3</td>\n",
       "      <td>14+3</td>\n",
       "      <td>https://cdn.sofifa.net/players/009/014/15_120.png</td>\n",
       "    </tr>\n",
       "    <tr>\n",
       "      <th>3</th>\n",
       "      <td>41236</td>\n",
       "      <td>/player/41236/zlatan-ibrahimovic/150002</td>\n",
       "      <td>15</td>\n",
       "      <td>2</td>\n",
       "      <td>2014-09-18</td>\n",
       "      <td>Z. Ibrahimović</td>\n",
       "      <td>Zlatan Ibrahimović</td>\n",
       "      <td>ST</td>\n",
       "      <td>90</td>\n",
       "      <td>90</td>\n",
       "      <td>...</td>\n",
       "      <td>65+3</td>\n",
       "      <td>65+3</td>\n",
       "      <td>61+3</td>\n",
       "      <td>56+3</td>\n",
       "      <td>55+3</td>\n",
       "      <td>55+3</td>\n",
       "      <td>55+3</td>\n",
       "      <td>56+3</td>\n",
       "      <td>17+3</td>\n",
       "      <td>https://cdn.sofifa.net/players/041/236/15_120.png</td>\n",
       "    </tr>\n",
       "    <tr>\n",
       "      <th>4</th>\n",
       "      <td>167495</td>\n",
       "      <td>/player/167495/manuel-neuer/150002</td>\n",
       "      <td>15</td>\n",
       "      <td>2</td>\n",
       "      <td>2014-09-18</td>\n",
       "      <td>M. Neuer</td>\n",
       "      <td>Manuel Peter Neuer</td>\n",
       "      <td>GK</td>\n",
       "      <td>90</td>\n",
       "      <td>90</td>\n",
       "      <td>...</td>\n",
       "      <td>40+3</td>\n",
       "      <td>40+3</td>\n",
       "      <td>36+3</td>\n",
       "      <td>36+3</td>\n",
       "      <td>38+3</td>\n",
       "      <td>38+3</td>\n",
       "      <td>38+3</td>\n",
       "      <td>36+3</td>\n",
       "      <td>87+3</td>\n",
       "      <td>https://cdn.sofifa.net/players/167/495/15_120.png</td>\n",
       "    </tr>\n",
       "    <tr>\n",
       "      <th>...</th>\n",
       "      <td>...</td>\n",
       "      <td>...</td>\n",
       "      <td>...</td>\n",
       "      <td>...</td>\n",
       "      <td>...</td>\n",
       "      <td>...</td>\n",
       "      <td>...</td>\n",
       "      <td>...</td>\n",
       "      <td>...</td>\n",
       "      <td>...</td>\n",
       "      <td>...</td>\n",
       "      <td>...</td>\n",
       "      <td>...</td>\n",
       "      <td>...</td>\n",
       "      <td>...</td>\n",
       "      <td>...</td>\n",
       "      <td>...</td>\n",
       "      <td>...</td>\n",
       "      <td>...</td>\n",
       "      <td>...</td>\n",
       "      <td>...</td>\n",
       "    </tr>\n",
       "    <tr>\n",
       "      <th>161578</th>\n",
       "      <td>269011</td>\n",
       "      <td>/player/269011/ziye-zhao/230002</td>\n",
       "      <td>23</td>\n",
       "      <td>2</td>\n",
       "      <td>2022-09-26</td>\n",
       "      <td>Zhao Ziye</td>\n",
       "      <td>赵梓业</td>\n",
       "      <td>RW</td>\n",
       "      <td>46</td>\n",
       "      <td>61</td>\n",
       "      <td>...</td>\n",
       "      <td>32+2</td>\n",
       "      <td>32+2</td>\n",
       "      <td>37+2</td>\n",
       "      <td>36+2</td>\n",
       "      <td>31+2</td>\n",
       "      <td>31+2</td>\n",
       "      <td>31+2</td>\n",
       "      <td>36+2</td>\n",
       "      <td>14+2</td>\n",
       "      <td>https://cdn.sofifa.net/players/269/011/23_120.png</td>\n",
       "    </tr>\n",
       "    <tr>\n",
       "      <th>161579</th>\n",
       "      <td>269019</td>\n",
       "      <td>/player/269019/junjie-wu/230002</td>\n",
       "      <td>23</td>\n",
       "      <td>2</td>\n",
       "      <td>2022-09-26</td>\n",
       "      <td>Wu Junjie</td>\n",
       "      <td>吴俊杰</td>\n",
       "      <td>LB</td>\n",
       "      <td>46</td>\n",
       "      <td>58</td>\n",
       "      <td>...</td>\n",
       "      <td>41+2</td>\n",
       "      <td>41+2</td>\n",
       "      <td>43+2</td>\n",
       "      <td>44+2</td>\n",
       "      <td>48+2</td>\n",
       "      <td>48+2</td>\n",
       "      <td>48+2</td>\n",
       "      <td>44+2</td>\n",
       "      <td>15+2</td>\n",
       "      <td>https://cdn.sofifa.net/players/269/019/23_120.png</td>\n",
       "    </tr>\n",
       "    <tr>\n",
       "      <th>161580</th>\n",
       "      <td>271093</td>\n",
       "      <td>/player/271093/kailin-barlow/230002</td>\n",
       "      <td>23</td>\n",
       "      <td>2</td>\n",
       "      <td>2022-09-26</td>\n",
       "      <td>K. Barlow</td>\n",
       "      <td>Kailin Barlow</td>\n",
       "      <td>CDM</td>\n",
       "      <td>46</td>\n",
       "      <td>58</td>\n",
       "      <td>...</td>\n",
       "      <td>45+2</td>\n",
       "      <td>45+2</td>\n",
       "      <td>47+2</td>\n",
       "      <td>47+2</td>\n",
       "      <td>46+2</td>\n",
       "      <td>46+2</td>\n",
       "      <td>46+2</td>\n",
       "      <td>47+2</td>\n",
       "      <td>14+2</td>\n",
       "      <td>https://cdn.sofifa.net/players/271/093/23_120.png</td>\n",
       "    </tr>\n",
       "    <tr>\n",
       "      <th>161581</th>\n",
       "      <td>271555</td>\n",
       "      <td>/player/271555/gideon-tetteh/230002</td>\n",
       "      <td>23</td>\n",
       "      <td>2</td>\n",
       "      <td>2022-09-26</td>\n",
       "      <td>G. Tetteh</td>\n",
       "      <td>Gideon Tetteh</td>\n",
       "      <td>RW, LW</td>\n",
       "      <td>46</td>\n",
       "      <td>70</td>\n",
       "      <td>...</td>\n",
       "      <td>30+2</td>\n",
       "      <td>30+2</td>\n",
       "      <td>34+2</td>\n",
       "      <td>32+2</td>\n",
       "      <td>28+2</td>\n",
       "      <td>28+2</td>\n",
       "      <td>28+2</td>\n",
       "      <td>32+2</td>\n",
       "      <td>15+2</td>\n",
       "      <td>https://cdn.sofifa.net/players/271/555/23_120.png</td>\n",
       "    </tr>\n",
       "    <tr>\n",
       "      <th>161582</th>\n",
       "      <td>271608</td>\n",
       "      <td>/player/271608/aqeel-al-dhafeeri/230002</td>\n",
       "      <td>23</td>\n",
       "      <td>2</td>\n",
       "      <td>2022-09-26</td>\n",
       "      <td>A. Al Dhafeeri</td>\n",
       "      <td>Aqeel Al Dhafeeri</td>\n",
       "      <td>CB</td>\n",
       "      <td>46</td>\n",
       "      <td>63</td>\n",
       "      <td>...</td>\n",
       "      <td>40+2</td>\n",
       "      <td>40+2</td>\n",
       "      <td>39+2</td>\n",
       "      <td>41+2</td>\n",
       "      <td>46+2</td>\n",
       "      <td>46+2</td>\n",
       "      <td>46+2</td>\n",
       "      <td>41+2</td>\n",
       "      <td>13+2</td>\n",
       "      <td>https://cdn.sofifa.net/players/271/608/23_120.png</td>\n",
       "    </tr>\n",
       "  </tbody>\n",
       "</table>\n",
       "<p>161583 rows × 102 columns</p>\n",
       "</div>"
      ],
      "text/plain": [
       "        player_id                                        player_url  \\\n",
       "0          158023                /player/158023/lionel-messi/150002   \n",
       "1           20801  /player/20801/c-ronaldo-dos-santos-aveiro/150002   \n",
       "2            9014                  /player/9014/arjen-robben/150002   \n",
       "3           41236           /player/41236/zlatan-ibrahimovic/150002   \n",
       "4          167495                /player/167495/manuel-neuer/150002   \n",
       "...           ...                                               ...   \n",
       "161578     269011                   /player/269011/ziye-zhao/230002   \n",
       "161579     269019                   /player/269019/junjie-wu/230002   \n",
       "161580     271093               /player/271093/kailin-barlow/230002   \n",
       "161581     271555               /player/271555/gideon-tetteh/230002   \n",
       "161582     271608           /player/271608/aqeel-al-dhafeeri/230002   \n",
       "\n",
       "        fifa_version  fifa_update fifa_update_date         short_name  \\\n",
       "0                 15            2       2014-09-18           L. Messi   \n",
       "1                 15            2       2014-09-18  Cristiano Ronaldo   \n",
       "2                 15            2       2014-09-18          A. Robben   \n",
       "3                 15            2       2014-09-18     Z. Ibrahimović   \n",
       "4                 15            2       2014-09-18           M. Neuer   \n",
       "...              ...          ...              ...                ...   \n",
       "161578            23            2       2022-09-26          Zhao Ziye   \n",
       "161579            23            2       2022-09-26          Wu Junjie   \n",
       "161580            23            2       2022-09-26          K. Barlow   \n",
       "161581            23            2       2022-09-26          G. Tetteh   \n",
       "161582            23            2       2022-09-26     A. Al Dhafeeri   \n",
       "\n",
       "                                  long_name player_positions  overall  \\\n",
       "0            Lionel Andrés Messi Cuccittini               CF       93   \n",
       "1       Cristiano Ronaldo dos Santos Aveiro           LW, LM       92   \n",
       "2                              Arjen Robben       RM, LM, RW       90   \n",
       "3                        Zlatan Ibrahimović               ST       90   \n",
       "4                        Manuel Peter Neuer               GK       90   \n",
       "...                                     ...              ...      ...   \n",
       "161578                                  赵梓业               RW       46   \n",
       "161579                                  吴俊杰               LB       46   \n",
       "161580                        Kailin Barlow              CDM       46   \n",
       "161581                        Gideon Tetteh           RW, LW       46   \n",
       "161582                    Aqeel Al Dhafeeri               CB       46   \n",
       "\n",
       "        potential  ...   cdm   rdm   rwb    lb   lcb    cb   rcb    rb    gk  \\\n",
       "0              95  ...  62+3  62+3  62+3  54+3  45+3  45+3  45+3  54+3  15+3   \n",
       "1              92  ...  63+3  63+3  63+3  57+3  52+3  52+3  52+3  57+3  16+3   \n",
       "2              90  ...  64+3  64+3  64+3  55+3  46+3  46+3  46+3  55+3  14+3   \n",
       "3              90  ...  65+3  65+3  61+3  56+3  55+3  55+3  55+3  56+3  17+3   \n",
       "4              90  ...  40+3  40+3  36+3  36+3  38+3  38+3  38+3  36+3  87+3   \n",
       "...           ...  ...   ...   ...   ...   ...   ...   ...   ...   ...   ...   \n",
       "161578         61  ...  32+2  32+2  37+2  36+2  31+2  31+2  31+2  36+2  14+2   \n",
       "161579         58  ...  41+2  41+2  43+2  44+2  48+2  48+2  48+2  44+2  15+2   \n",
       "161580         58  ...  45+2  45+2  47+2  47+2  46+2  46+2  46+2  47+2  14+2   \n",
       "161581         70  ...  30+2  30+2  34+2  32+2  28+2  28+2  28+2  32+2  15+2   \n",
       "161582         63  ...  40+2  40+2  39+2  41+2  46+2  46+2  46+2  41+2  13+2   \n",
       "\n",
       "                                          player_face_url  \n",
       "0       https://cdn.sofifa.net/players/158/023/15_120.png  \n",
       "1       https://cdn.sofifa.net/players/020/801/15_120.png  \n",
       "2       https://cdn.sofifa.net/players/009/014/15_120.png  \n",
       "3       https://cdn.sofifa.net/players/041/236/15_120.png  \n",
       "4       https://cdn.sofifa.net/players/167/495/15_120.png  \n",
       "...                                                   ...  \n",
       "161578  https://cdn.sofifa.net/players/269/011/23_120.png  \n",
       "161579  https://cdn.sofifa.net/players/269/019/23_120.png  \n",
       "161580  https://cdn.sofifa.net/players/271/093/23_120.png  \n",
       "161581  https://cdn.sofifa.net/players/271/555/23_120.png  \n",
       "161582  https://cdn.sofifa.net/players/271/608/23_120.png  \n",
       "\n",
       "[161583 rows x 102 columns]"
      ]
     },
     "execution_count": 10,
     "metadata": {},
     "output_type": "execute_result"
    }
   ],
   "source": [
    "train_df"
   ]
  },
  {
   "cell_type": "code",
   "execution_count": 11,
   "id": "bVhbVJhzm8b3",
   "metadata": {
    "colab": {
     "base_uri": "https://localhost:8080/"
    },
    "id": "bVhbVJhzm8b3",
    "outputId": "12e04413-2de2-4bed-c505-0a7ce8af433d"
   },
   "outputs": [
    {
     "name": "stdout",
     "output_type": "stream",
     "text": [
      "0         27\n",
      "1         29\n",
      "2         30\n",
      "3         32\n",
      "4         28\n",
      "          ..\n",
      "161578    18\n",
      "161579    19\n",
      "161580    19\n",
      "161581    17\n",
      "161582    17\n",
      "Name: age, Length: 161583, dtype: int64\n"
     ]
    }
   ],
   "source": [
    "print(train_df['age'])"
   ]
  },
  {
   "cell_type": "code",
   "execution_count": 12,
   "id": "666a1af5-b986-427c-80ca-7994edd95942",
   "metadata": {
    "id": "666a1af5-b986-427c-80ca-7994edd95942"
   },
   "outputs": [],
   "source": [
    "# Columns to drop\n",
    "columns_to_drop = ['ls', 'st', 'rs', 'lw', 'lf', 'cf', 'rf', 'rw', 'lam', 'cam',\n",
    "                   'ram', 'lm', 'lcm', 'cm', 'rcm', 'rm', 'lwb', 'ldm', 'cdm',\n",
    "                   'rdm', 'rwb', 'lb', 'lcb', 'cb', 'rcb', 'rb']\n",
    "\n",
    "columns_to_drop_train = ['player_url', 'fifa_update_date', 'short_name', 'long_name', 'club_joined_date','real_face','nationality_name', 'body_type','club_name','preferred_foot', 'body_type', 'gk','league_name',]\n",
    "\n",
    "columns_to_drop_sum = columns_to_drop + columns_to_drop_train\n",
    "\n",
    "columns_to_drop_sum.extend(['player_id',\t'fifa_version',\t'fifa_update', 'dob', 'player_face_url','league_id','potential', 'club_team_id', 'club_position',\n",
    " 'club_jersey_number',\n",
    " 'club_contract_valid_until_year',])\n",
    "\n",
    "\n",
    "train_df.drop(columns=columns_to_drop_sum, inplace=True, errors='ignore')\n"
   ]
  },
  {
   "cell_type": "code",
   "execution_count": 13,
   "id": "Zk_-TIlzrnyr",
   "metadata": {
    "colab": {
     "base_uri": "https://localhost:8080/"
    },
    "id": "Zk_-TIlzrnyr",
    "outputId": "aa0eb565-6428-467b-ed51-c4617550b87c"
   },
   "outputs": [
    {
     "data": {
      "text/plain": [
       "0            Medium/Low\n",
       "1              High/Low\n",
       "2              High/Low\n",
       "3            Medium/Low\n",
       "4         Medium/Medium\n",
       "              ...      \n",
       "161578    Medium/Medium\n",
       "161579    Medium/Medium\n",
       "161580      High/Medium\n",
       "161581    Medium/Medium\n",
       "161582    Medium/Medium\n",
       "Name: work_rate, Length: 161583, dtype: object"
      ]
     },
     "execution_count": 13,
     "metadata": {},
     "output_type": "execute_result"
    }
   ],
   "source": [
    "train_df['work_rate']"
   ]
  },
  {
   "cell_type": "code",
   "execution_count": 14,
   "id": "w8zFRXddpqzm",
   "metadata": {
    "colab": {
     "base_uri": "https://localhost:8080/",
     "height": 256
    },
    "id": "w8zFRXddpqzm",
    "outputId": "54cca4f2-cc0f-4736-b511-9726d6dab230"
   },
   "outputs": [
    {
     "data": {
      "text/html": [
       "<div>\n",
       "<style scoped>\n",
       "    .dataframe tbody tr th:only-of-type {\n",
       "        vertical-align: middle;\n",
       "    }\n",
       "\n",
       "    .dataframe tbody tr th {\n",
       "        vertical-align: top;\n",
       "    }\n",
       "\n",
       "    .dataframe thead th {\n",
       "        text-align: right;\n",
       "    }\n",
       "</style>\n",
       "<table border=\"1\" class=\"dataframe\">\n",
       "  <thead>\n",
       "    <tr style=\"text-align: right;\">\n",
       "      <th></th>\n",
       "      <th>player_positions</th>\n",
       "      <th>overall</th>\n",
       "      <th>value_eur</th>\n",
       "      <th>wage_eur</th>\n",
       "      <th>age</th>\n",
       "      <th>height_cm</th>\n",
       "      <th>weight_kg</th>\n",
       "      <th>league_level</th>\n",
       "      <th>nationality_id</th>\n",
       "      <th>weak_foot</th>\n",
       "      <th>...</th>\n",
       "      <th>mentality_penalties</th>\n",
       "      <th>mentality_composure</th>\n",
       "      <th>defending_marking_awareness</th>\n",
       "      <th>defending_standing_tackle</th>\n",
       "      <th>defending_sliding_tackle</th>\n",
       "      <th>goalkeeping_diving</th>\n",
       "      <th>goalkeeping_handling</th>\n",
       "      <th>goalkeeping_kicking</th>\n",
       "      <th>goalkeeping_positioning</th>\n",
       "      <th>goalkeeping_reflexes</th>\n",
       "    </tr>\n",
       "  </thead>\n",
       "  <tbody>\n",
       "    <tr>\n",
       "      <th>0</th>\n",
       "      <td>CF</td>\n",
       "      <td>93</td>\n",
       "      <td>100500000.0</td>\n",
       "      <td>550000.0</td>\n",
       "      <td>27</td>\n",
       "      <td>169</td>\n",
       "      <td>67</td>\n",
       "      <td>1.0</td>\n",
       "      <td>52</td>\n",
       "      <td>3</td>\n",
       "      <td>...</td>\n",
       "      <td>76</td>\n",
       "      <td>NaN</td>\n",
       "      <td>25</td>\n",
       "      <td>21</td>\n",
       "      <td>20</td>\n",
       "      <td>6</td>\n",
       "      <td>11</td>\n",
       "      <td>15</td>\n",
       "      <td>14</td>\n",
       "      <td>8</td>\n",
       "    </tr>\n",
       "    <tr>\n",
       "      <th>1</th>\n",
       "      <td>LW, LM</td>\n",
       "      <td>92</td>\n",
       "      <td>79000000.0</td>\n",
       "      <td>375000.0</td>\n",
       "      <td>29</td>\n",
       "      <td>185</td>\n",
       "      <td>80</td>\n",
       "      <td>1.0</td>\n",
       "      <td>38</td>\n",
       "      <td>4</td>\n",
       "      <td>...</td>\n",
       "      <td>85</td>\n",
       "      <td>NaN</td>\n",
       "      <td>22</td>\n",
       "      <td>31</td>\n",
       "      <td>23</td>\n",
       "      <td>7</td>\n",
       "      <td>11</td>\n",
       "      <td>15</td>\n",
       "      <td>14</td>\n",
       "      <td>11</td>\n",
       "    </tr>\n",
       "    <tr>\n",
       "      <th>2</th>\n",
       "      <td>RM, LM, RW</td>\n",
       "      <td>90</td>\n",
       "      <td>54500000.0</td>\n",
       "      <td>275000.0</td>\n",
       "      <td>30</td>\n",
       "      <td>180</td>\n",
       "      <td>80</td>\n",
       "      <td>1.0</td>\n",
       "      <td>34</td>\n",
       "      <td>2</td>\n",
       "      <td>...</td>\n",
       "      <td>80</td>\n",
       "      <td>NaN</td>\n",
       "      <td>29</td>\n",
       "      <td>26</td>\n",
       "      <td>26</td>\n",
       "      <td>10</td>\n",
       "      <td>8</td>\n",
       "      <td>11</td>\n",
       "      <td>5</td>\n",
       "      <td>15</td>\n",
       "    </tr>\n",
       "    <tr>\n",
       "      <th>3</th>\n",
       "      <td>ST</td>\n",
       "      <td>90</td>\n",
       "      <td>52500000.0</td>\n",
       "      <td>275000.0</td>\n",
       "      <td>32</td>\n",
       "      <td>195</td>\n",
       "      <td>95</td>\n",
       "      <td>1.0</td>\n",
       "      <td>46</td>\n",
       "      <td>4</td>\n",
       "      <td>...</td>\n",
       "      <td>91</td>\n",
       "      <td>NaN</td>\n",
       "      <td>25</td>\n",
       "      <td>41</td>\n",
       "      <td>27</td>\n",
       "      <td>13</td>\n",
       "      <td>15</td>\n",
       "      <td>10</td>\n",
       "      <td>9</td>\n",
       "      <td>12</td>\n",
       "    </tr>\n",
       "    <tr>\n",
       "      <th>4</th>\n",
       "      <td>GK</td>\n",
       "      <td>90</td>\n",
       "      <td>63500000.0</td>\n",
       "      <td>300000.0</td>\n",
       "      <td>28</td>\n",
       "      <td>193</td>\n",
       "      <td>92</td>\n",
       "      <td>1.0</td>\n",
       "      <td>21</td>\n",
       "      <td>4</td>\n",
       "      <td>...</td>\n",
       "      <td>37</td>\n",
       "      <td>NaN</td>\n",
       "      <td>25</td>\n",
       "      <td>25</td>\n",
       "      <td>25</td>\n",
       "      <td>87</td>\n",
       "      <td>85</td>\n",
       "      <td>92</td>\n",
       "      <td>90</td>\n",
       "      <td>86</td>\n",
       "    </tr>\n",
       "  </tbody>\n",
       "</table>\n",
       "<p>5 rows × 53 columns</p>\n",
       "</div>"
      ],
      "text/plain": [
       "  player_positions  overall    value_eur  wage_eur  age  height_cm  weight_kg  \\\n",
       "0               CF       93  100500000.0  550000.0   27        169         67   \n",
       "1           LW, LM       92   79000000.0  375000.0   29        185         80   \n",
       "2       RM, LM, RW       90   54500000.0  275000.0   30        180         80   \n",
       "3               ST       90   52500000.0  275000.0   32        195         95   \n",
       "4               GK       90   63500000.0  300000.0   28        193         92   \n",
       "\n",
       "   league_level  nationality_id  weak_foot  ...  mentality_penalties  \\\n",
       "0           1.0              52          3  ...                   76   \n",
       "1           1.0              38          4  ...                   85   \n",
       "2           1.0              34          2  ...                   80   \n",
       "3           1.0              46          4  ...                   91   \n",
       "4           1.0              21          4  ...                   37   \n",
       "\n",
       "   mentality_composure defending_marking_awareness  defending_standing_tackle  \\\n",
       "0                  NaN                          25                         21   \n",
       "1                  NaN                          22                         31   \n",
       "2                  NaN                          29                         26   \n",
       "3                  NaN                          25                         41   \n",
       "4                  NaN                          25                         25   \n",
       "\n",
       "   defending_sliding_tackle  goalkeeping_diving  goalkeeping_handling  \\\n",
       "0                        20                   6                    11   \n",
       "1                        23                   7                    11   \n",
       "2                        26                  10                     8   \n",
       "3                        27                  13                    15   \n",
       "4                        25                  87                    85   \n",
       "\n",
       "   goalkeeping_kicking  goalkeeping_positioning  goalkeeping_reflexes  \n",
       "0                   15                       14                     8  \n",
       "1                   15                       14                    11  \n",
       "2                   11                        5                    15  \n",
       "3                   10                        9                    12  \n",
       "4                   92                       90                    86  \n",
       "\n",
       "[5 rows x 53 columns]"
      ]
     },
     "execution_count": 14,
     "metadata": {},
     "output_type": "execute_result"
    }
   ],
   "source": [
    "train_df.head()"
   ]
  },
  {
   "cell_type": "code",
   "execution_count": 15,
   "id": "b1f539d5-45cc-4f4b-bc13-dec3b06c246b",
   "metadata": {
    "id": "b1f539d5-45cc-4f4b-bc13-dec3b06c246b"
   },
   "outputs": [],
   "source": [
    "# separating the numeric and catergorical for train_df\n",
    "# Separate the numeric and Non- numeric features\n",
    "numeric_data_train_df= train_df.select_dtypes(include = np.number)"
   ]
  },
  {
   "cell_type": "code",
   "execution_count": 16,
   "id": "eb2d57c0-c061-4155-9010-efebf8361977",
   "metadata": {
    "id": "eb2d57c0-c061-4155-9010-efebf8361977"
   },
   "outputs": [],
   "source": [
    "non_numeric_train_df = train_df.select_dtypes(include =['object'])"
   ]
  },
  {
   "cell_type": "code",
   "execution_count": 17,
   "id": "be756de2-cc4e-46dc-9bdf-7c5a8119dd01",
   "metadata": {
    "colab": {
     "base_uri": "https://localhost:8080/"
    },
    "id": "be756de2-cc4e-46dc-9bdf-7c5a8119dd01",
    "outputId": "83cf03c5-0a5c-4da2-e41c-75b8ed03d91c"
   },
   "outputs": [
    {
     "name": "stdout",
     "output_type": "stream",
     "text": [
      "<class 'pandas.core.frame.DataFrame'>\n",
      "RangeIndex: 161583 entries, 0 to 161582\n",
      "Data columns (total 51 columns):\n",
      " #   Column                       Non-Null Count   Dtype  \n",
      "---  ------                       --------------   -----  \n",
      " 0   overall                      161583 non-null  int64  \n",
      " 1   value_eur                    159530 non-null  float64\n",
      " 2   wage_eur                     159822 non-null  float64\n",
      " 3   age                          161583 non-null  int64  \n",
      " 4   height_cm                    161583 non-null  int64  \n",
      " 5   weight_kg                    161583 non-null  int64  \n",
      " 6   league_level                 158866 non-null  float64\n",
      " 7   nationality_id               161583 non-null  int64  \n",
      " 8   weak_foot                    161583 non-null  int64  \n",
      " 9   skill_moves                  161583 non-null  int64  \n",
      " 10  international_reputation     161583 non-null  int64  \n",
      " 11  pace                         143614 non-null  float64\n",
      " 12  shooting                     143614 non-null  float64\n",
      " 13  passing                      143614 non-null  float64\n",
      " 14  dribbling                    143614 non-null  float64\n",
      " 15  defending                    143614 non-null  float64\n",
      " 16  physic                       143614 non-null  float64\n",
      " 17  attacking_crossing           161583 non-null  int64  \n",
      " 18  attacking_finishing          161583 non-null  int64  \n",
      " 19  attacking_heading_accuracy   161583 non-null  int64  \n",
      " 20  attacking_short_passing      161583 non-null  int64  \n",
      " 21  attacking_volleys            161583 non-null  int64  \n",
      " 22  skill_dribbling              161583 non-null  int64  \n",
      " 23  skill_curve                  161583 non-null  int64  \n",
      " 24  skill_fk_accuracy            161583 non-null  int64  \n",
      " 25  skill_long_passing           161583 non-null  int64  \n",
      " 26  skill_ball_control           161583 non-null  int64  \n",
      " 27  movement_acceleration        161583 non-null  int64  \n",
      " 28  movement_sprint_speed        161583 non-null  int64  \n",
      " 29  movement_agility             161583 non-null  int64  \n",
      " 30  movement_reactions           161583 non-null  int64  \n",
      " 31  movement_balance             161583 non-null  int64  \n",
      " 32  power_shot_power             161583 non-null  int64  \n",
      " 33  power_jumping                161583 non-null  int64  \n",
      " 34  power_stamina                161583 non-null  int64  \n",
      " 35  power_strength               161583 non-null  int64  \n",
      " 36  power_long_shots             161583 non-null  int64  \n",
      " 37  mentality_aggression         161583 non-null  int64  \n",
      " 38  mentality_interceptions      161583 non-null  int64  \n",
      " 39  mentality_positioning        161583 non-null  int64  \n",
      " 40  mentality_vision             161583 non-null  int64  \n",
      " 41  mentality_penalties          161583 non-null  int64  \n",
      " 42  mentality_composure          128722 non-null  float64\n",
      " 43  defending_marking_awareness  161583 non-null  int64  \n",
      " 44  defending_standing_tackle    161583 non-null  int64  \n",
      " 45  defending_sliding_tackle     161583 non-null  int64  \n",
      " 46  goalkeeping_diving           161583 non-null  int64  \n",
      " 47  goalkeeping_handling         161583 non-null  int64  \n",
      " 48  goalkeeping_kicking          161583 non-null  int64  \n",
      " 49  goalkeeping_positioning      161583 non-null  int64  \n",
      " 50  goalkeeping_reflexes         161583 non-null  int64  \n",
      "dtypes: float64(10), int64(41)\n",
      "memory usage: 62.9 MB\n"
     ]
    }
   ],
   "source": [
    "numeric_data_train_df.info()"
   ]
  },
  {
   "cell_type": "code",
   "execution_count": 18,
   "id": "20d25992-5329-4eb2-8570-bcdc0e3ba924",
   "metadata": {
    "colab": {
     "base_uri": "https://localhost:8080/"
    },
    "id": "20d25992-5329-4eb2-8570-bcdc0e3ba924",
    "outputId": "2a08750c-2803-4dd1-c12e-024cae5c6a94"
   },
   "outputs": [
    {
     "name": "stdout",
     "output_type": "stream",
     "text": [
      "<class 'pandas.core.frame.DataFrame'>\n",
      "RangeIndex: 161583 entries, 0 to 161582\n",
      "Data columns (total 2 columns):\n",
      " #   Column            Non-Null Count   Dtype \n",
      "---  ------            --------------   ----- \n",
      " 0   player_positions  161583 non-null  object\n",
      " 1   work_rate         161583 non-null  object\n",
      "dtypes: object(2)\n",
      "memory usage: 2.5+ MB\n"
     ]
    }
   ],
   "source": [
    "non_numeric_train_df.info()"
   ]
  },
  {
   "cell_type": "code",
   "execution_count": 19,
   "id": "rHzfKUgDiC88",
   "metadata": {
    "colab": {
     "base_uri": "https://localhost:8080/"
    },
    "id": "rHzfKUgDiC88",
    "outputId": "a30446b9-24f1-47b5-be5f-868b2f5c357e"
   },
   "outputs": [
    {
     "name": "stdout",
     "output_type": "stream",
     "text": [
      "<class 'pandas.core.frame.DataFrame'>\n",
      "RangeIndex: 161583 entries, 0 to 161582\n",
      "Data columns (total 51 columns):\n",
      " #   Column                       Non-Null Count   Dtype  \n",
      "---  ------                       --------------   -----  \n",
      " 0   overall                      161583 non-null  int64  \n",
      " 1   value_eur                    159530 non-null  float64\n",
      " 2   wage_eur                     159822 non-null  float64\n",
      " 3   age                          161583 non-null  int64  \n",
      " 4   height_cm                    161583 non-null  int64  \n",
      " 5   weight_kg                    161583 non-null  int64  \n",
      " 6   league_level                 158866 non-null  float64\n",
      " 7   nationality_id               161583 non-null  int64  \n",
      " 8   weak_foot                    161583 non-null  int64  \n",
      " 9   skill_moves                  161583 non-null  int64  \n",
      " 10  international_reputation     161583 non-null  int64  \n",
      " 11  pace                         143614 non-null  float64\n",
      " 12  shooting                     143614 non-null  float64\n",
      " 13  passing                      143614 non-null  float64\n",
      " 14  dribbling                    143614 non-null  float64\n",
      " 15  defending                    143614 non-null  float64\n",
      " 16  physic                       143614 non-null  float64\n",
      " 17  attacking_crossing           161583 non-null  int64  \n",
      " 18  attacking_finishing          161583 non-null  int64  \n",
      " 19  attacking_heading_accuracy   161583 non-null  int64  \n",
      " 20  attacking_short_passing      161583 non-null  int64  \n",
      " 21  attacking_volleys            161583 non-null  int64  \n",
      " 22  skill_dribbling              161583 non-null  int64  \n",
      " 23  skill_curve                  161583 non-null  int64  \n",
      " 24  skill_fk_accuracy            161583 non-null  int64  \n",
      " 25  skill_long_passing           161583 non-null  int64  \n",
      " 26  skill_ball_control           161583 non-null  int64  \n",
      " 27  movement_acceleration        161583 non-null  int64  \n",
      " 28  movement_sprint_speed        161583 non-null  int64  \n",
      " 29  movement_agility             161583 non-null  int64  \n",
      " 30  movement_reactions           161583 non-null  int64  \n",
      " 31  movement_balance             161583 non-null  int64  \n",
      " 32  power_shot_power             161583 non-null  int64  \n",
      " 33  power_jumping                161583 non-null  int64  \n",
      " 34  power_stamina                161583 non-null  int64  \n",
      " 35  power_strength               161583 non-null  int64  \n",
      " 36  power_long_shots             161583 non-null  int64  \n",
      " 37  mentality_aggression         161583 non-null  int64  \n",
      " 38  mentality_interceptions      161583 non-null  int64  \n",
      " 39  mentality_positioning        161583 non-null  int64  \n",
      " 40  mentality_vision             161583 non-null  int64  \n",
      " 41  mentality_penalties          161583 non-null  int64  \n",
      " 42  mentality_composure          128722 non-null  float64\n",
      " 43  defending_marking_awareness  161583 non-null  int64  \n",
      " 44  defending_standing_tackle    161583 non-null  int64  \n",
      " 45  defending_sliding_tackle     161583 non-null  int64  \n",
      " 46  goalkeeping_diving           161583 non-null  int64  \n",
      " 47  goalkeeping_handling         161583 non-null  int64  \n",
      " 48  goalkeeping_kicking          161583 non-null  int64  \n",
      " 49  goalkeeping_positioning      161583 non-null  int64  \n",
      " 50  goalkeeping_reflexes         161583 non-null  int64  \n",
      "dtypes: float64(10), int64(41)\n",
      "memory usage: 62.9 MB\n"
     ]
    }
   ],
   "source": [
    "numeric_data_train_df.info()"
   ]
  },
  {
   "cell_type": "code",
   "execution_count": 20,
   "id": "aAD7_apace7R",
   "metadata": {
    "colab": {
     "base_uri": "https://localhost:8080/"
    },
    "id": "aAD7_apace7R",
    "outputId": "1ec90111-8571-472e-fd75-473f1975ffec"
   },
   "outputs": [
    {
     "data": {
      "text/plain": [
       "Index(['overall', 'value_eur', 'wage_eur', 'age', 'height_cm', 'weight_kg',\n",
       "       'league_level', 'nationality_id', 'weak_foot', 'skill_moves',\n",
       "       'international_reputation', 'pace', 'shooting', 'passing', 'dribbling',\n",
       "       'defending', 'physic', 'attacking_crossing', 'attacking_finishing',\n",
       "       'attacking_heading_accuracy', 'attacking_short_passing',\n",
       "       'attacking_volleys', 'skill_dribbling', 'skill_curve',\n",
       "       'skill_fk_accuracy', 'skill_long_passing', 'skill_ball_control',\n",
       "       'movement_acceleration', 'movement_sprint_speed', 'movement_agility',\n",
       "       'movement_reactions', 'movement_balance', 'power_shot_power',\n",
       "       'power_jumping', 'power_stamina', 'power_strength', 'power_long_shots',\n",
       "       'mentality_aggression', 'mentality_interceptions',\n",
       "       'mentality_positioning', 'mentality_vision', 'mentality_penalties',\n",
       "       'mentality_composure', 'defending_marking_awareness',\n",
       "       'defending_standing_tackle', 'defending_sliding_tackle',\n",
       "       'goalkeeping_diving', 'goalkeeping_handling', 'goalkeeping_kicking',\n",
       "       'goalkeeping_positioning', 'goalkeeping_reflexes'],\n",
       "      dtype='object')"
      ]
     },
     "execution_count": 20,
     "metadata": {},
     "output_type": "execute_result"
    }
   ],
   "source": [
    "numeric_data_train_df.columns"
   ]
  },
  {
   "cell_type": "code",
   "execution_count": 21,
   "id": "e6727f3d-bc68-4cf2-afae-5ef3cb370d1d",
   "metadata": {
    "id": "e6727f3d-bc68-4cf2-afae-5ef3cb370d1d"
   },
   "outputs": [],
   "source": [
    "# Fill Missing numerical Values for both the train_df and test_df\n",
    "from sklearn.impute import SimpleImputer\n",
    "\n",
    "imputer = SimpleImputer(strategy='mean')\n",
    "\n",
    "numeric_data_train_df= pd.DataFrame(imputer.fit_transform(numeric_data_train_df),columns=numeric_data_train_df.columns)"
   ]
  },
  {
   "cell_type": "code",
   "execution_count": 22,
   "id": "jLDJijNAeYg3",
   "metadata": {
    "colab": {
     "base_uri": "https://localhost:8080/"
    },
    "id": "jLDJijNAeYg3",
    "outputId": "9695751e-f20f-4537-b1dc-a64fdf51b426"
   },
   "outputs": [
    {
     "data": {
      "text/plain": [
       "0         57.816892\n",
       "1         57.816892\n",
       "2         57.816892\n",
       "3         57.816892\n",
       "4         57.816892\n",
       "            ...    \n",
       "161578    40.000000\n",
       "161579    35.000000\n",
       "161580    35.000000\n",
       "161581    43.000000\n",
       "161582    30.000000\n",
       "Name: mentality_composure, Length: 161583, dtype: float64"
      ]
     },
     "execution_count": 22,
     "metadata": {},
     "output_type": "execute_result"
    }
   ],
   "source": [
    "numeric_data_train_df['mentality_composure']"
   ]
  },
  {
   "cell_type": "code",
   "execution_count": 23,
   "id": "YrdHm-YVgyf-",
   "metadata": {
    "colab": {
     "base_uri": "https://localhost:8080/"
    },
    "id": "YrdHm-YVgyf-",
    "outputId": "cf8bccfc-99f8-4096-de6b-03641342bd2a"
   },
   "outputs": [
    {
     "name": "stdout",
     "output_type": "stream",
     "text": [
      "   player_positions  work_rate\n",
      "0               412          7\n",
      "1              1128          1\n",
      "2              1541          1\n",
      "3              1838          7\n",
      "4               719          8\n"
     ]
    }
   ],
   "source": [
    "from sklearn.preprocessing import LabelEncoder\n",
    "\n",
    "# Create a function to apply label encoding\n",
    "def label_encode(df, columns):\n",
    "    label_encoders = {}\n",
    "    for column in columns:\n",
    "        le = LabelEncoder()\n",
    "        df[column] = le.fit_transform(df[column])\n",
    "        label_encoders[column] = le\n",
    "    return df, label_encoders\n",
    "\n",
    "# List of categorical columns\n",
    "categorical_columns_train = non_numeric_train_df.columns\n",
    "\n",
    "# Encode categorical columns in the training dataset\n",
    "categorical_data_train_df, train_label_encoders = label_encode(non_numeric_train_df, categorical_columns_train)\n",
    "\n",
    "# Encode categorical columns in the test dataset\n",
    "\n",
    "# Verifying the encodings are different (for illustration purposes)\n",
    "print(categorical_data_train_df.head())\n"
   ]
  },
  {
   "cell_type": "code",
   "execution_count": 24,
   "id": "a91fdd17-11f8-456a-ac8b-f8a136212439",
   "metadata": {
    "id": "a91fdd17-11f8-456a-ac8b-f8a136212439"
   },
   "outputs": [],
   "source": [
    "# putting the numeric and catergorical data together\n",
    "# Combine training data\n",
    "merged_train = pd.concat([numeric_data_train_df,categorical_data_train_df], axis=1)"
   ]
  },
  {
   "cell_type": "code",
   "execution_count": 26,
   "id": "WqFX7CB350aa",
   "metadata": {
    "id": "WqFX7CB350aa"
   },
   "outputs": [],
   "source": [
    "# Scaling\n",
    "from sklearn.preprocessing import StandardScaler\n",
    "scaler = StandardScaler()\n",
    "scaled_train= scaler.fit_transform(merged_train)"
   ]
  },
  {
   "cell_type": "code",
   "execution_count": 27,
   "id": "b0WIeEVcuXkr",
   "metadata": {
    "id": "b0WIeEVcuXkr"
   },
   "outputs": [],
   "source": [
    "scaled_train_df = pd.DataFrame(scaled_train, columns=merged_train.columns)"
   ]
  },
  {
   "cell_type": "code",
   "execution_count": 28,
   "id": "STHePVTBtw30",
   "metadata": {
    "colab": {
     "base_uri": "https://localhost:8080/",
     "height": 256
    },
    "id": "STHePVTBtw30",
    "outputId": "95448d4f-2f1c-4eb5-e3cd-26045e218335"
   },
   "outputs": [
    {
     "data": {
      "text/html": [
       "<div>\n",
       "<style scoped>\n",
       "    .dataframe tbody tr th:only-of-type {\n",
       "        vertical-align: middle;\n",
       "    }\n",
       "\n",
       "    .dataframe tbody tr th {\n",
       "        vertical-align: top;\n",
       "    }\n",
       "\n",
       "    .dataframe thead th {\n",
       "        text-align: right;\n",
       "    }\n",
       "</style>\n",
       "<table border=\"1\" class=\"dataframe\">\n",
       "  <thead>\n",
       "    <tr style=\"text-align: right;\">\n",
       "      <th></th>\n",
       "      <th>overall</th>\n",
       "      <th>value_eur</th>\n",
       "      <th>wage_eur</th>\n",
       "      <th>age</th>\n",
       "      <th>height_cm</th>\n",
       "      <th>weight_kg</th>\n",
       "      <th>league_level</th>\n",
       "      <th>nationality_id</th>\n",
       "      <th>weak_foot</th>\n",
       "      <th>skill_moves</th>\n",
       "      <th>...</th>\n",
       "      <th>defending_marking_awareness</th>\n",
       "      <th>defending_standing_tackle</th>\n",
       "      <th>defending_sliding_tackle</th>\n",
       "      <th>goalkeeping_diving</th>\n",
       "      <th>goalkeeping_handling</th>\n",
       "      <th>goalkeeping_kicking</th>\n",
       "      <th>goalkeeping_positioning</th>\n",
       "      <th>goalkeeping_reflexes</th>\n",
       "      <th>player_positions</th>\n",
       "      <th>work_rate</th>\n",
       "    </tr>\n",
       "  </thead>\n",
       "  <tbody>\n",
       "    <tr>\n",
       "      <th>0</th>\n",
       "      <td>3.877514</td>\n",
       "      <td>16.451449</td>\n",
       "      <td>24.706815</td>\n",
       "      <td>0.401872</td>\n",
       "      <td>-1.813330</td>\n",
       "      <td>-1.176360</td>\n",
       "      <td>-0.510923</td>\n",
       "      <td>-0.074553</td>\n",
       "      <td>0.091301</td>\n",
       "      <td>2.221492</td>\n",
       "      <td>...</td>\n",
       "      <td>-1.014879</td>\n",
       "      <td>-1.249980</td>\n",
       "      <td>-1.227530</td>\n",
       "      <td>-0.595889</td>\n",
       "      <td>-0.313345</td>\n",
       "      <td>-0.069212</td>\n",
       "      <td>-0.134650</td>\n",
       "      <td>-0.480363</td>\n",
       "      <td>-0.714885</td>\n",
       "      <td>0.401514</td>\n",
       "    </tr>\n",
       "    <tr>\n",
       "      <th>1</th>\n",
       "      <td>3.735485</td>\n",
       "      <td>12.848571</td>\n",
       "      <td>16.687273</td>\n",
       "      <td>0.830120</td>\n",
       "      <td>0.556996</td>\n",
       "      <td>0.680668</td>\n",
       "      <td>-0.510923</td>\n",
       "      <td>-0.366880</td>\n",
       "      <td>1.599912</td>\n",
       "      <td>3.551651</td>\n",
       "      <td>...</td>\n",
       "      <td>-1.161552</td>\n",
       "      <td>-0.781296</td>\n",
       "      <td>-1.084230</td>\n",
       "      <td>-0.539297</td>\n",
       "      <td>-0.313345</td>\n",
       "      <td>-0.069212</td>\n",
       "      <td>-0.134650</td>\n",
       "      <td>-0.313512</td>\n",
       "      <td>0.483334</td>\n",
       "      <td>-1.721440</td>\n",
       "    </tr>\n",
       "    <tr>\n",
       "      <th>2</th>\n",
       "      <td>3.451428</td>\n",
       "      <td>8.742966</td>\n",
       "      <td>12.104678</td>\n",
       "      <td>1.044244</td>\n",
       "      <td>-0.183731</td>\n",
       "      <td>0.680668</td>\n",
       "      <td>-0.510923</td>\n",
       "      <td>-0.450402</td>\n",
       "      <td>-1.417310</td>\n",
       "      <td>2.221492</td>\n",
       "      <td>...</td>\n",
       "      <td>-0.819314</td>\n",
       "      <td>-1.015638</td>\n",
       "      <td>-0.940931</td>\n",
       "      <td>-0.369522</td>\n",
       "      <td>-0.491553</td>\n",
       "      <td>-0.311984</td>\n",
       "      <td>-0.664104</td>\n",
       "      <td>-0.091044</td>\n",
       "      <td>1.174485</td>\n",
       "      <td>-1.721440</td>\n",
       "    </tr>\n",
       "    <tr>\n",
       "      <th>3</th>\n",
       "      <td>3.451428</td>\n",
       "      <td>8.407815</td>\n",
       "      <td>12.104678</td>\n",
       "      <td>1.472491</td>\n",
       "      <td>2.038450</td>\n",
       "      <td>2.823392</td>\n",
       "      <td>-0.510923</td>\n",
       "      <td>-0.199836</td>\n",
       "      <td>1.599912</td>\n",
       "      <td>2.221492</td>\n",
       "      <td>...</td>\n",
       "      <td>-1.014879</td>\n",
       "      <td>-0.312612</td>\n",
       "      <td>-0.893165</td>\n",
       "      <td>-0.199747</td>\n",
       "      <td>-0.075734</td>\n",
       "      <td>-0.372677</td>\n",
       "      <td>-0.428791</td>\n",
       "      <td>-0.257895</td>\n",
       "      <td>1.671512</td>\n",
       "      <td>0.401514</td>\n",
       "    </tr>\n",
       "    <tr>\n",
       "      <th>4</th>\n",
       "      <td>3.451428</td>\n",
       "      <td>10.251147</td>\n",
       "      <td>13.250326</td>\n",
       "      <td>0.615996</td>\n",
       "      <td>1.742159</td>\n",
       "      <td>2.394847</td>\n",
       "      <td>-0.510923</td>\n",
       "      <td>-0.721848</td>\n",
       "      <td>1.599912</td>\n",
       "      <td>-1.768985</td>\n",
       "      <td>...</td>\n",
       "      <td>-1.014879</td>\n",
       "      <td>-1.062506</td>\n",
       "      <td>-0.988698</td>\n",
       "      <td>3.988044</td>\n",
       "      <td>4.082458</td>\n",
       "      <td>4.604134</td>\n",
       "      <td>4.336295</td>\n",
       "      <td>3.857769</td>\n",
       "      <td>-0.201123</td>\n",
       "      <td>0.755340</td>\n",
       "    </tr>\n",
       "  </tbody>\n",
       "</table>\n",
       "<p>5 rows × 53 columns</p>\n",
       "</div>"
      ],
      "text/plain": [
       "    overall  value_eur   wage_eur       age  height_cm  weight_kg  \\\n",
       "0  3.877514  16.451449  24.706815  0.401872  -1.813330  -1.176360   \n",
       "1  3.735485  12.848571  16.687273  0.830120   0.556996   0.680668   \n",
       "2  3.451428   8.742966  12.104678  1.044244  -0.183731   0.680668   \n",
       "3  3.451428   8.407815  12.104678  1.472491   2.038450   2.823392   \n",
       "4  3.451428  10.251147  13.250326  0.615996   1.742159   2.394847   \n",
       "\n",
       "   league_level  nationality_id  weak_foot  skill_moves  ...  \\\n",
       "0     -0.510923       -0.074553   0.091301     2.221492  ...   \n",
       "1     -0.510923       -0.366880   1.599912     3.551651  ...   \n",
       "2     -0.510923       -0.450402  -1.417310     2.221492  ...   \n",
       "3     -0.510923       -0.199836   1.599912     2.221492  ...   \n",
       "4     -0.510923       -0.721848   1.599912    -1.768985  ...   \n",
       "\n",
       "   defending_marking_awareness  defending_standing_tackle  \\\n",
       "0                    -1.014879                  -1.249980   \n",
       "1                    -1.161552                  -0.781296   \n",
       "2                    -0.819314                  -1.015638   \n",
       "3                    -1.014879                  -0.312612   \n",
       "4                    -1.014879                  -1.062506   \n",
       "\n",
       "   defending_sliding_tackle  goalkeeping_diving  goalkeeping_handling  \\\n",
       "0                 -1.227530           -0.595889             -0.313345   \n",
       "1                 -1.084230           -0.539297             -0.313345   \n",
       "2                 -0.940931           -0.369522             -0.491553   \n",
       "3                 -0.893165           -0.199747             -0.075734   \n",
       "4                 -0.988698            3.988044              4.082458   \n",
       "\n",
       "   goalkeeping_kicking  goalkeeping_positioning  goalkeeping_reflexes  \\\n",
       "0            -0.069212                -0.134650             -0.480363   \n",
       "1            -0.069212                -0.134650             -0.313512   \n",
       "2            -0.311984                -0.664104             -0.091044   \n",
       "3            -0.372677                -0.428791             -0.257895   \n",
       "4             4.604134                 4.336295              3.857769   \n",
       "\n",
       "   player_positions  work_rate  \n",
       "0         -0.714885   0.401514  \n",
       "1          0.483334  -1.721440  \n",
       "2          1.174485  -1.721440  \n",
       "3          1.671512   0.401514  \n",
       "4         -0.201123   0.755340  \n",
       "\n",
       "[5 rows x 53 columns]"
      ]
     },
     "execution_count": 28,
     "metadata": {},
     "output_type": "execute_result"
    }
   ],
   "source": [
    "scaled_train_df.head()"
   ]
  },
  {
   "cell_type": "markdown",
   "id": "L5iHDbVfOnpP",
   "metadata": {
    "id": "L5iHDbVfOnpP"
   },
   "source": [
    "Question 2"
   ]
  },
  {
   "cell_type": "code",
   "execution_count": 29,
   "id": "jEjs6eeCwXOa",
   "metadata": {
    "id": "jEjs6eeCwXOa"
   },
   "outputs": [],
   "source": [
    "dependent_variable=scaled_train_df['overall']"
   ]
  },
  {
   "cell_type": "code",
   "execution_count": 30,
   "id": "9d3atHy0w0UN",
   "metadata": {
    "id": "9d3atHy0w0UN"
   },
   "outputs": [],
   "source": [
    "independent_variables = scaled_train_df.drop(columns=['overall']).copy()"
   ]
  },
  {
   "cell_type": "code",
   "execution_count": 31,
   "id": "btt8aeUIxUAO",
   "metadata": {
    "id": "btt8aeUIxUAO"
   },
   "outputs": [],
   "source": [
    "correlation_matrix = independent_variables.corrwith(dependent_variable)"
   ]
  },
  {
   "cell_type": "code",
   "execution_count": 32,
   "id": "bf201ded-b154-4e5e-bcaa-1362eb149eaf",
   "metadata": {
    "id": "bf201ded-b154-4e5e-bcaa-1362eb149eaf"
   },
   "outputs": [],
   "source": [
    "# Extract correlations with 'overall' and sort by absolute values\n",
    "corr_with_target = correlation_matrix.abs().sort_values(ascending=False)"
   ]
  },
  {
   "cell_type": "code",
   "execution_count": 33,
   "id": "r5KnlSjgzGMQ",
   "metadata": {
    "colab": {
     "base_uri": "https://localhost:8080/"
    },
    "id": "r5KnlSjgzGMQ",
    "outputId": "a3d16e7d-22f3-4971-b16a-6fc6c939b458"
   },
   "outputs": [
    {
     "data": {
      "text/plain": [
       "movement_reactions             0.845753\n",
       "passing                        0.632617\n",
       "wage_eur                       0.608711\n",
       "mentality_composure            0.604074\n",
       "value_eur                      0.563962\n",
       "dribbling                      0.563384\n",
       "attacking_short_passing        0.499757\n",
       "mentality_vision               0.493282\n",
       "international_reputation       0.485234\n",
       "skill_long_passing             0.483808\n",
       "power_shot_power               0.480297\n",
       "physic                         0.476732\n",
       "age                            0.458390\n",
       "skill_ball_control             0.457011\n",
       "shooting                       0.448143\n",
       "skill_curve                    0.415863\n",
       "power_long_shots               0.409086\n",
       "mentality_aggression           0.398310\n",
       "attacking_crossing             0.396833\n",
       "skill_fk_accuracy              0.387269\n",
       "attacking_volleys              0.377048\n",
       "skill_dribbling                0.369827\n",
       "power_stamina                  0.360025\n",
       "power_strength                 0.350786\n",
       "mentality_positioning          0.350178\n",
       "attacking_heading_accuracy     0.340029\n",
       "mentality_penalties            0.334488\n",
       "skill_moves                    0.330951\n",
       "attacking_finishing            0.326376\n",
       "mentality_interceptions        0.314282\n",
       "defending                      0.301999\n",
       "power_jumping                  0.275578\n",
       "defending_marking_awareness    0.274173\n",
       "movement_agility               0.263671\n",
       "defending_standing_tackle      0.250624\n",
       "work_rate                      0.223711\n",
       "defending_sliding_tackle       0.220398\n",
       "league_level                   0.220234\n",
       "weak_foot                      0.217422\n",
       "movement_sprint_speed          0.208990\n",
       "movement_acceleration          0.194625\n",
       "pace                           0.173856\n",
       "weight_kg                      0.140015\n",
       "movement_balance               0.099129\n",
       "nationality_id                 0.093951\n",
       "height_cm                      0.044415\n",
       "goalkeeping_kicking            0.015521\n",
       "player_positions               0.015008\n",
       "goalkeeping_diving             0.013603\n",
       "goalkeeping_reflexes           0.011783\n",
       "goalkeeping_handling           0.010862\n",
       "goalkeeping_positioning        0.004731\n",
       "dtype: float64"
      ]
     },
     "execution_count": 33,
     "metadata": {},
     "output_type": "execute_result"
    }
   ],
   "source": [
    "corr_with_target"
   ]
  },
  {
   "cell_type": "code",
   "execution_count": 34,
   "id": "utDYovB5zht9",
   "metadata": {
    "id": "utDYovB5zht9"
   },
   "outputs": [],
   "source": [
    "n_top_features = 10  # Number of top features to select\n",
    "top_features = corr_with_target[:n_top_features]"
   ]
  },
  {
   "cell_type": "code",
   "execution_count": null,
   "id": "225d50b1-0c24-461b-be64-a823c177fec5",
   "metadata": {},
   "outputs": [],
   "source": []
  },
  {
   "cell_type": "code",
   "execution_count": 35,
   "id": "PpOsIQdjzolP",
   "metadata": {
    "colab": {
     "base_uri": "https://localhost:8080/",
     "height": 845
    },
    "id": "PpOsIQdjzolP",
    "outputId": "4dd0d14f-a5d6-4783-a8a5-a7ddfea4810b"
   },
   "outputs": [
    {
     "data": {
      "text/plain": [
       "Text(0.5, 1.0, 'Top Features with Correlation with Overall Rating')"
      ]
     },
     "execution_count": 35,
     "metadata": {},
     "output_type": "execute_result"
    },
    {
     "data": {
      "image/png": "[encoded data removed]",
      "text/plain": [
       "<Figure size 1200x800 with 1 Axes>"
      ]
     },
     "metadata": {},
     "output_type": "display_data"
    }
   ],
   "source": [
    "import matplotlib.pyplot as plt\n",
    "import seaborn as sns\n",
    "\n",
    "plt.figure(figsize=(12, 8))\n",
    "sns.barplot(x=top_features, y = top_features.index, palette='viridis')\n",
    "plt.xlabel('Features')\n",
    "plt.ylabel('Correlation with Overall Rating')\n",
    "plt.title('Top Features with Correlation with Overall Rating')"
   ]
  },
  {
   "cell_type": "markdown",
   "id": "OGobKbPRa1c3",
   "metadata": {
    "id": "OGobKbPRa1c3"
   },
   "source": [
    "Question 2"
   ]
  },
  {
   "cell_type": "code",
   "execution_count": 36,
   "id": "62fdc43f-a947-4f35-ba5c-e2b1e0ef3fcb",
   "metadata": {
    "id": "62fdc43f-a947-4f35-ba5c-e2b1e0ef3fcb"
   },
   "outputs": [],
   "source": [
    "feature_subsets = scaled_train_df[top_features.index]"
   ]
  },
  {
   "cell_type": "code",
   "execution_count": 37,
   "id": "HNc12rCY0un5",
   "metadata": {
    "colab": {
     "base_uri": "https://localhost:8080/",
     "height": 244
    },
    "id": "HNc12rCY0un5",
    "outputId": "3bf007fd-edcc-4b0b-9996-f5438e0e5c4d"
   },
   "outputs": [
    {
     "data": {
      "text/html": [
       "<div>\n",
       "<style scoped>\n",
       "    .dataframe tbody tr th:only-of-type {\n",
       "        vertical-align: middle;\n",
       "    }\n",
       "\n",
       "    .dataframe tbody tr th {\n",
       "        vertical-align: top;\n",
       "    }\n",
       "\n",
       "    .dataframe thead th {\n",
       "        text-align: right;\n",
       "    }\n",
       "</style>\n",
       "<table border=\"1\" class=\"dataframe\">\n",
       "  <thead>\n",
       "    <tr style=\"text-align: right;\">\n",
       "      <th></th>\n",
       "      <th>movement_reactions</th>\n",
       "      <th>passing</th>\n",
       "      <th>wage_eur</th>\n",
       "      <th>mentality_composure</th>\n",
       "      <th>value_eur</th>\n",
       "      <th>dribbling</th>\n",
       "      <th>attacking_short_passing</th>\n",
       "      <th>mentality_vision</th>\n",
       "      <th>international_reputation</th>\n",
       "      <th>skill_long_passing</th>\n",
       "    </tr>\n",
       "  </thead>\n",
       "  <tbody>\n",
       "    <tr>\n",
       "      <th>0</th>\n",
       "      <td>3.535775</td>\n",
       "      <td>2.940185e+00</td>\n",
       "      <td>24.706815</td>\n",
       "      <td>6.456683e-16</td>\n",
       "      <td>16.451449</td>\n",
       "      <td>3.492538e+00</td>\n",
       "      <td>2.086204</td>\n",
       "      <td>2.588430</td>\n",
       "      <td>10.148137</td>\n",
       "      <td>1.536683</td>\n",
       "    </tr>\n",
       "    <tr>\n",
       "      <th>1</th>\n",
       "      <td>3.099571</td>\n",
       "      <td>2.434335e+00</td>\n",
       "      <td>16.687273</td>\n",
       "      <td>6.456683e-16</td>\n",
       "      <td>12.848571</td>\n",
       "      <td>2.977689e+00</td>\n",
       "      <td>1.609554</td>\n",
       "      <td>1.957672</td>\n",
       "      <td>10.148137</td>\n",
       "      <td>1.273977</td>\n",
       "    </tr>\n",
       "    <tr>\n",
       "      <th>2</th>\n",
       "      <td>2.990520</td>\n",
       "      <td>2.636675e+00</td>\n",
       "      <td>12.104678</td>\n",
       "      <td>6.456683e-16</td>\n",
       "      <td>8.742966</td>\n",
       "      <td>3.080659e+00</td>\n",
       "      <td>1.881925</td>\n",
       "      <td>2.167924</td>\n",
       "      <td>10.148137</td>\n",
       "      <td>1.536683</td>\n",
       "    </tr>\n",
       "    <tr>\n",
       "      <th>3</th>\n",
       "      <td>2.554317</td>\n",
       "      <td>2.434335e+00</td>\n",
       "      <td>12.104678</td>\n",
       "      <td>6.456683e-16</td>\n",
       "      <td>8.407815</td>\n",
       "      <td>2.462841e+00</td>\n",
       "      <td>1.745740</td>\n",
       "      <td>2.097840</td>\n",
       "      <td>10.148137</td>\n",
       "      <td>1.536683</td>\n",
       "    </tr>\n",
       "    <tr>\n",
       "      <th>4</th>\n",
       "      <td>2.990520</td>\n",
       "      <td>-7.188561e-16</td>\n",
       "      <td>13.250326</td>\n",
       "      <td>6.456683e-16</td>\n",
       "      <td>10.251147</td>\n",
       "      <td>7.316434e-16</td>\n",
       "      <td>-1.114157</td>\n",
       "      <td>-2.317466</td>\n",
       "      <td>10.148137</td>\n",
       "      <td>-0.761996</td>\n",
       "    </tr>\n",
       "  </tbody>\n",
       "</table>\n",
       "</div>"
      ],
      "text/plain": [
       "   movement_reactions       passing   wage_eur  mentality_composure  \\\n",
       "0            3.535775  2.940185e+00  24.706815         6.456683e-16   \n",
       "1            3.099571  2.434335e+00  16.687273         6.456683e-16   \n",
       "2            2.990520  2.636675e+00  12.104678         6.456683e-16   \n",
       "3            2.554317  2.434335e+00  12.104678         6.456683e-16   \n",
       "4            2.990520 -7.188561e-16  13.250326         6.456683e-16   \n",
       "\n",
       "   value_eur     dribbling  attacking_short_passing  mentality_vision  \\\n",
       "0  16.451449  3.492538e+00                 2.086204          2.588430   \n",
       "1  12.848571  2.977689e+00                 1.609554          1.957672   \n",
       "2   8.742966  3.080659e+00                 1.881925          2.167924   \n",
       "3   8.407815  2.462841e+00                 1.745740          2.097840   \n",
       "4  10.251147  7.316434e-16                -1.114157         -2.317466   \n",
       "\n",
       "   international_reputation  skill_long_passing  \n",
       "0                 10.148137            1.536683  \n",
       "1                 10.148137            1.273977  \n",
       "2                 10.148137            1.536683  \n",
       "3                 10.148137            1.536683  \n",
       "4                 10.148137           -0.761996  "
      ]
     },
     "execution_count": 37,
     "metadata": {},
     "output_type": "execute_result"
    }
   ],
   "source": [
    "feature_subsets.head()"
   ]
  },
  {
   "cell_type": "markdown",
   "id": "-P8ImPwnOlxj",
   "metadata": {
    "id": "-P8ImPwnOlxj"
   },
   "source": [
    "Question 3"
   ]
  },
  {
   "cell_type": "code",
   "execution_count": 38,
   "id": "0fc6bd19-2337-4851-8e63-babfb743eeda",
   "metadata": {
    "id": "0fc6bd19-2337-4851-8e63-babfb743eeda"
   },
   "outputs": [],
   "source": [
    "#Question 3\n",
    "from sklearn.model_selection import train_test_split, cross_val_score, KFold\n",
    "from sklearn.ensemble import RandomForestRegressor\n",
    "from sklearn.metrics import mean_squared_error, mean_absolute_error, r2_score\n"
   ]
  },
  {
   "cell_type": "code",
   "execution_count": 39,
   "id": "44f106e7-8cb2-4358-bc56-c84527f07522",
   "metadata": {
    "id": "44f106e7-8cb2-4358-bc56-c84527f07522"
   },
   "outputs": [],
   "source": [
    "X = feature_subsets\n",
    "y =train_df['overall']"
   ]
  },
  {
   "cell_type": "code",
   "execution_count": 40,
   "id": "ad247d4a-6bf0-4f51-ba49-bc36af093630",
   "metadata": {},
   "outputs": [],
   "source": [
    "concat_df = pd.concat([X, y], axis=1)"
   ]
  },
  {
   "cell_type": "code",
   "execution_count": 41,
   "id": "5a667f50-cf3c-4e90-b0a7-ea373cbb533d",
   "metadata": {},
   "outputs": [],
   "source": [
    "#randomization of the data\n",
    "concat_df = concat_df.sample(frac=1, random_state=42).reset_index(drop=True)"
   ]
  },
  {
   "cell_type": "code",
   "execution_count": 42,
   "id": "da3ba09d-26ab-4e00-8c93-6604751ba847",
   "metadata": {},
   "outputs": [],
   "source": [
    "concat_df = pd.concat([X, y], axis=1)"
   ]
  },
  {
   "cell_type": "code",
   "execution_count": 43,
   "id": "d907939c-2f3b-4aa8-af20-b7f93d8e656c",
   "metadata": {
    "id": "d907939c-2f3b-4aa8-af20-b7f93d8e656c"
   },
   "outputs": [],
   "source": [
    "X_train, X_test, y_train, y_test = train_test_split(X, y, test_size=0.2, random_state=42)"
   ]
  },
  {
   "cell_type": "code",
   "execution_count": 44,
   "id": "U_cxcoaP16Nv",
   "metadata": {
    "id": "U_cxcoaP16Nv"
   },
   "outputs": [],
   "source": [
    "n_folds = 10\n",
    "kf = KFold(n_splits=n_folds, shuffle=True, random_state=42)"
   ]
  },
  {
   "cell_type": "code",
   "execution_count": 78,
   "id": "eefdad83-b886-4a48-b814-d96d1e4dd4dd",
   "metadata": {
    "colab": {
     "base_uri": "https://localhost:8080/"
    },
    "id": "eefdad83-b886-4a48-b814-d96d1e4dd4dd",
    "outputId": "3e93e040-da66-49e7-f101-edc0f210e073"
   },
   "outputs": [
    {
     "name": "stdout",
     "output_type": "stream",
     "text": [
      "RMSE: 4.0081\n",
      "size of prediction:  19239\n",
      "prediction: \n",
      " [91.76 91.55 90.   ... 53.96 55.08 56.11]\n",
      "test score: 0.9153\n",
      "\n"
     ]
    }
   ],
   "source": [
    "#Random Forest Regressor\n",
    "rf_model = RandomForestRegressor(n_estimators=100, random_state=42) #100\n",
    "rf_scores = cross_val_score(rf_model, X_train, y_train, cv=kf, scoring='neg_mean_squared_error')\n",
    "rf_rmse = np.sqrt(-rf_scores.mean())\n",
    "\n",
    "rf_model.fit(X_train, y_train)\n",
    "score = rf_model.score(X_test, y_test)\n",
    "mse = mean_squared_error(y_test, rf_model.predict(X_test))\n",
    "\n",
    "print(\"RMSE: %.4f\" % mse)\n",
    "print(\"size of prediction: \", len(rf_model.predict(X_test)))\n",
    "print(\"prediction: \\n\", rf_model.predict(X_test))\n",
    "print(\"test score: {0:.4f}\\n\".format(score))"
   ]
  },
  {
   "cell_type": "code",
   "execution_count": 46,
   "id": "_XdSzulMAZOz",
   "metadata": {
    "colab": {
     "base_uri": "https://localhost:8080/"
    },
    "id": "_XdSzulMAZOz",
    "outputId": "f2e9e86f-37db-452b-9866-2786a726f923"
   },
   "outputs": [
    {
     "name": "stdout",
     "output_type": "stream",
     "text": [
      "RMSE: 1.6289\n",
      "size of prediction:  32317\n",
      "prediction: \n",
      " [66.70487  63.122375 69.22728  ... 57.49236  63.66807  53.51797 ]\n",
      "test score: 0.9465\n",
      "\n"
     ]
    }
   ],
   "source": [
    "#XGBoost Regressor\n",
    "import xgboost as xgb\n",
    "xgb_model = xgb.XGBRegressor(objective='reg:squarederror', random_state=42)\n",
    "xgb_scores = cross_val_score(xgb_model, X_train, y_train, cv=kf, scoring='neg_mean_squared_error')\n",
    "xgb_rmse = np.sqrt(-xgb_scores.mean())\n",
    "xgb_model.fit(X_train, y_train)\n",
    "score = xgb_model.score(X_test, y_test)\n",
    "mse = mean_squared_error(y_test, xgb_model.predict(X_test))\n",
    "\n",
    "print(\"RMSE: %.4f\" % np.sqrt(mse))\n",
    "print(\"size of prediction: \", len(xgb_model.predict(X_test)))\n",
    "print(\"prediction: \\n\", xgb_model.predict(X_test))\n",
    "print(\"test score: {0:.4f}\\n\".format(score))"
   ]
  },
  {
   "cell_type": "code",
   "execution_count": 79,
   "id": "pAKYICUUAxp2",
   "metadata": {
    "colab": {
     "base_uri": "https://localhost:8080/"
    },
    "id": "pAKYICUUAxp2",
    "outputId": "d674a9b8-6562-4e12-a948-f4f22badb0f9"
   },
   "outputs": [
    {
     "name": "stdout",
     "output_type": "stream",
     "text": [
      "RMSE: 4.3624\n",
      "size of prediction:  19239\n",
      "prediction: \n",
      " [92.75419387 91.60941263 91.08784486 ... 53.1154904  55.17709449\n",
      " 54.54087315]\n",
      "test score: 0.9078\n",
      "\n"
     ]
    }
   ],
   "source": [
    "#Gradient Boosting Regressor\n",
    "\n",
    "from sklearn.ensemble import GradientBoostingRegressor\n",
    "gb_model = GradientBoostingRegressor(n_estimators=500, random_state=42, max_depth=4, min_samples_split=2, learning_rate=0.2)\n",
    "gb_scores = cross_val_score(gb_model, X_train, y_train, cv=kf, scoring='neg_mean_squared_error')\n",
    "gb_rmse = np.sqrt(-gb_scores.mean())\n",
    "gb_model.fit(X_train, y_train)\n",
    "score = gb_model.score(X_test, y_test)\n",
    "mse = mean_squared_error(y_test, gb_model.predict(X_test))\n",
    "\n",
    "print(\"RMSE: %.4f\" % mse)\n",
    "print(\"size of prediction: \", len(gb_model.predict(X_test)))\n",
    "print(\"prediction: \\n\", gb_model.predict(X_test))\n",
    "print(\"test score: {0:.4f}\\n\".format(score))"
   ]
  },
  {
   "cell_type": "code",
   "execution_count": 48,
   "id": "cRJGsHhNBBxJ",
   "metadata": {
    "colab": {
     "base_uri": "https://localhost:8080/"
    },
    "id": "cRJGsHhNBBxJ",
    "outputId": "e9847b73-1b8e-44ba-a774-590c5dff022a"
   },
   "outputs": [
    {
     "name": "stdout",
     "output_type": "stream",
     "text": [
      "MSE: 3.6997\n",
      "size of prediction:  32317\n",
      "prediction: \n",
      " [66.88888889 63.47530864 69.09364768 ... 57.97584541 63.70703364\n",
      " 53.01454545]\n",
      "test score: 0.9254\n",
      "\n"
     ]
    }
   ],
   "source": [
    "#DecisionTreeRegressor\n",
    "import xgboost as xgb\n",
    "from sklearn.model_selection import GridSearchCV\n",
    "from sklearn.tree import DecisionTreeRegressor\n",
    "dt_model = DecisionTreeRegressor()\n",
    "param_grid = {\n",
    "    'max_depth': [2, 10, 20, 30],\n",
    "    'min_samples_split': [2, 5, 10],\n",
    "    'min_samples_leaf': [1, 2, 4],\n",
    "    'max_features': [1.0, 'sqrt', 'log2']\n",
    "}\n",
    "grid_search = GridSearchCV(dt_model, param_grid, cv=kf, scoring='neg_mean_squared_error')\n",
    "gs_scores = cross_val_score(dt_model, X_train, y_train, cv=kf, scoring='neg_mean_squared_error')\n",
    "gs_rmse = np.sqrt(-gs_scores.mean())\n",
    "grid_search.fit(X_train, y_train)\n",
    "best_params = grid_search.best_params_\n",
    "best_dt_model = grid_search.best_estimator_\n",
    "\n",
    "score = best_dt_model.score(X_test, y_test)\n",
    "mse = mean_squared_error(y_test, best_dt_model.predict(X_test))\n",
    "\n",
    "print(\"MSE: %.4f\" % mse)\n",
    "print(\"size of prediction: \", len(best_dt_model.predict(X_test)))\n",
    "print(\"prediction: \\n\", best_dt_model.predict(X_test))\n",
    "print(\"test score: {0:.4f}\\n\".format(score))"
   ]
  },
  {
   "cell_type": "markdown",
   "id": "M6BmvzgQOjYP",
   "metadata": {
    "id": "M6BmvzgQOjYP"
   },
   "source": [
    "Optimization"
   ]
  },
  {
   "cell_type": "code",
   "execution_count": 69,
   "id": "6vMIsUPbZnJZ",
   "metadata": {
    "colab": {
     "base_uri": "https://localhost:8080/"
    },
    "id": "6vMIsUPbZnJZ",
    "outputId": "77003d88-0b4f-4552-c321-b9f6585bf4de"
   },
   "outputs": [
    {
     "name": "stdout",
     "output_type": "stream",
     "text": [
      "MSE: 4.3213\n",
      "size of prediction:  19239\n",
      "prediction: \n",
      " [92.26021959 91.758155   90.67638059 ... 53.54534656 54.95403856\n",
      " 54.62835522]\n",
      "test score: 0.9087\n",
      "\n"
     ]
    }
   ],
   "source": [
    "import xgboost as xgb\n",
    "from sklearn.ensemble import GradientBoostingRegressor\n",
    "from sklearn.model_selection import GridSearchCV\n",
    "from sklearn.model_selection import train_test_split\n",
    "from sklearn.ensemble import VotingRegressor\n",
    "from sklearn.metrics import mean_squared_error\n",
    "\n",
    "\n",
    "params = {'n_estimators': 1000, 'max_depth': 4, 'min_samples_split': 2,\n",
    "          'learning_rate': 0.1, 'loss': 'squared_error'}\n",
    "improved_gbr = GradientBoostingRegressor(**params)\n",
    "\n",
    "improved_gbr.fit(X_train,y_train)\n",
    "\n",
    "score = improved_gbr.score(X_test, y_test)\n",
    "\n",
    "# calculate the Mean Squared Error\n",
    "mse = mean_squared_error(y_test, improved_gbr.predict(X_test))\n",
    "\n",
    "print(\"MSE: %.4f\" % mse)\n",
    "print(\"size of prediction: \", len(improved_gbr.predict(X_test)))\n",
    "print(\"prediction: \\n\", improved_gbr.predict(X_test))\n",
    "print(\"test score: {0:.4f}\\n\".format(score))"
   ]
  },
  {
   "cell_type": "code",
   "execution_count": 70,
   "id": "JXqMvFXCWbQm",
   "metadata": {
    "colab": {
     "base_uri": "https://localhost:8080/"
    },
    "id": "JXqMvFXCWbQm",
    "outputId": "e646a624-6132-4520-f7cb-e601ab6f494e"
   },
   "outputs": [
    {
     "name": "stdout",
     "output_type": "stream",
     "text": [
      "MSE: 4.1436\n",
      "size of prediction:  19239\n",
      "prediction: \n",
      " [92.04758  90.835655 90.88054  ... 53.369343 55.383858 55.066147]\n",
      "test score: 0.9125\n",
      "\n"
     ]
    }
   ],
   "source": [
    "import xgboost as xgb\n",
    "from sklearn.model_selection import GridSearchCV\n",
    "params = {'n_estimators': 100, 'max_depth': 4, 'learning_rate': 0.2, 'subsample':0.8}\n",
    "\n",
    "improved_xgb = xgb.XGBRegressor(**params)\n",
    "\n",
    "improved_xgb.fit(X_train, y_train)\n",
    "\n",
    "score = improved_xgb.score(X_test, y_test)\n",
    "\n",
    "# calculate the Mean Squared Error\n",
    "mse = mean_squared_error(y_test, improved_xgb.predict(X_test))\n",
    "\n",
    "print(\"MSE: %.4f\" % mse)\n",
    "print(\"size of prediction: \", len(improved_xgb.predict(X_test)))\n",
    "print(\"prediction: \\n\", improved_xgb.predict(X_test))\n",
    "print(\"test score: {0:.4f}\\n\".format(score))"
   ]
  },
  {
   "cell_type": "markdown",
   "id": "umhcRmtzW1_Q",
   "metadata": {
    "id": "umhcRmtzW1_Q"
   },
   "source": [
    "Ensembling/ Question 4"
   ]
  },
  {
   "cell_type": "code",
   "execution_count": 80,
   "id": "86d8d026-a924-4045-8d6a-a50961290b84",
   "metadata": {
    "colab": {
     "base_uri": "https://localhost:8080/"
    },
    "id": "86d8d026-a924-4045-8d6a-a50961290b84",
    "outputId": "caf978a7-a327-405c-aabc-40ffe41e953b"
   },
   "outputs": [
    {
     "name": "stdout",
     "output_type": "stream",
     "text": [
      "MSE: 4.2329\n",
      "size of prediction:  19239\n",
      "prediction: \n",
      " [92.14194912 91.66095255 90.40379492 ... 54.09773371 55.23353544\n",
      " 55.74402493]\n",
      "test score: 0.9106\n",
      "\n"
     ]
    }
   ],
   "source": [
    "ensemble = VotingRegressor(estimators=[\n",
    "    ('improved_xgb', improved_xgb),\n",
    "    ('rf_model', rf_model),\n",
    "    ('best_dt_model',best_dt_model),\n",
    "    ( 'improved_gbr',improved_gbr)\n",
    "])\n",
    "\n",
    "ensemble.fit(X_train, y_train)\n",
    "\n",
    "y_pred = ensemble.predict(X_test)\n",
    "score = ensemble.score(X_test, y_test)\n",
    "\n",
    "\n",
    "# Calculate RMSE (Root Mean Squared Error)\n",
    "mse = mean_squared_error(y_test, y_pred)\n",
    "\n",
    "print(\"MSE: %.4f\" % mse)\n",
    "print(\"size of prediction: \", len(ensemble.predict(X_test)))\n",
    "print(\"prediction: \\n\", ensemble.predict(X_test))\n",
    "print(\"test score: {0:.4f}\\n\".format(score))"
   ]
  },
  {
   "cell_type": "markdown",
   "id": "D9A1GxwqOgoJ",
   "metadata": {
    "id": "D9A1GxwqOgoJ"
   },
   "source": [
    "Question 5"
   ]
  },
  {
   "cell_type": "code",
   "execution_count": 52,
   "id": "3cdf5d7f-5f12-4b47-bdc5-af1e4c4c64d6",
   "metadata": {
    "id": "3cdf5d7f-5f12-4b47-bdc5-af1e4c4c64d6"
   },
   "outputs": [],
   "source": [
    "#testing the with the players_22\n",
    "#create a function for data procesing ...not traiun ...you are just using it!!!!!!!!!!!!!!!!\n",
    "test_df= pd.read_csv('players_22.csv',low_memory=False)# testing (players_22)\n"
   ]
  },
  {
   "cell_type": "code",
   "execution_count": 61,
   "id": "c562e2f7-1dbb-4182-b122-2876705d4957",
   "metadata": {},
   "outputs": [],
   "source": [
    "import pandas as pd\n",
    "import numpy as np\n",
    "from sklearn.preprocessing import StandardScaler, LabelEncoder\n",
    "from sklearn.impute import SimpleImputer\n",
    "\n",
    "def label_encode(df, columns):\n",
    "    label_encoders = {}\n",
    "    for column in columns:\n",
    "        le = LabelEncoder()\n",
    "        df[column] = le.fit_transform(df[column].astype(str))\n",
    "        label_encoders[column] = le\n",
    "    return df, label_encoders\n",
    "\n",
    "def prepare_data(df):\n",
    "    # Select relevant features and the dependent variable\n",
    "    selected_features = ['movement_reactions', 'passing', 'wage_eur', 'mentality_composure',\n",
    "                         'value_eur', 'dribbling', 'attacking_short_passing', 'mentality_vision',\n",
    "                         'international_reputation', 'skill_long_passing', 'overall']  # Include 'overall' as dependent variable\n",
    "    \n",
    "    data = df[selected_features].copy()\n",
    "\n",
    "    numeric_data_test_df = data.select_dtypes(include=np.number)\n",
    "    non_numeric_test_df = data.select_dtypes(include=['object'])\n",
    "\n",
    "    # Fill missing values for selected columns\n",
    "    imputer = SimpleImputer(strategy='mean')\n",
    "    numeric_data_test_df = pd.DataFrame(imputer.fit_transform(numeric_data_test_df), columns=numeric_data_test_df.columns)\n",
    "    \n",
    "    # List of categorical columns\n",
    "    categorical_columns_test = non_numeric_test_df.columns\n",
    "\n",
    "    # Encode categorical columns in the dataset\n",
    "    categorical_data_test_df, test_label_encoders = label_encode(non_numeric_test_df, categorical_columns_test)\n",
    "\n",
    "    # Merge numeric and encoded categorical data\n",
    "    merged_test = pd.concat([numeric_data_test_df, categorical_data_test_df], axis=1)\n",
    "\n",
    "    scaler = StandardScaler()\n",
    "    scaled_test = scaler.fit_transform(merged_test)\n",
    "\n",
    "    # Create a DataFrame with scaled features\n",
    "    scaled_df = pd.DataFrame(scaled_test, columns=merged_test.columns)\n",
    "\n",
    "    # Reset index for consistency\n",
    "    scaled_df.reset_index(drop=True, inplace=True)\n",
    "    data.reset_index(drop=True, inplace=True)\n",
    "\n",
    "    # Combine scaled features with the dependent variable\n",
    "    final_data = scaled_df.copy()\n",
    "\n",
    "    # Split into features and target\n",
    "    X = final_data.drop(columns=['overall'])\n",
    "    y = merged_test['overall']\n",
    "\n",
    "    return X, y\n",
    "\n",
    "# Usage:\n",
    "# Assuming test_df is your input DataFrame\n",
    "X_test, y_test = prepare_data(test_df)\n"
   ]
  },
  {
   "cell_type": "code",
   "execution_count": 59,
   "id": "52050cf9-67c6-47f7-96e2-4278dd54e4ef",
   "metadata": {},
   "outputs": [
    {
     "name": "stdout",
     "output_type": "stream",
     "text": [
      "       movement_reactions   passing  mentality_composure  value_eur  \\\n",
      "0                3.599846  3.548135             3.131025   9.889601   \n",
      "1                3.489252  2.284233             2.473077  15.350958   \n",
      "2                3.599846  2.389558             3.048782   5.546836   \n",
      "3                3.046874  3.021509             2.884295  16.601147   \n",
      "4                3.268063  3.758786             2.555321  16.140551   \n",
      "...                   ...       ...                  ...        ...   \n",
      "19234           -0.934526 -1.191498            -1.721343  -0.365905   \n",
      "19235           -1.376903 -0.770197            -0.898908  -0.360641   \n",
      "19236           -1.708687 -1.296823            -1.803587  -0.361957   \n",
      "19237           -1.487498 -2.244749            -0.898908  -0.360641   \n",
      "19238           -0.823931 -1.296823            -1.803587  -0.360641   \n",
      "\n",
      "        wage_eur  dribbling  attacking_short_passing  mentality_vision  \\\n",
      "0      15.998022   3.564477                 2.217457          3.006228   \n",
      "1      13.425844   2.575529                 1.803392          1.980597   \n",
      "2      13.425844   2.795295                 1.458338          1.614300   \n",
      "3      13.425844   3.454594                 1.872403          2.639931   \n",
      "4      17.541329   2.795295                 2.424490          2.932969   \n",
      "...          ...        ...                      ...               ...   \n",
      "19234  -0.412474  -1.600026                -0.611986         -0.803260   \n",
      "19235  -0.438196  -1.819792                -0.542976         -0.363704   \n",
      "19236  -0.438196  -1.490143                -0.680997         -0.583482   \n",
      "19237  -0.438196  -1.600026                -1.440116         -1.023038   \n",
      "19238  -0.438196  -1.600026                -0.611986         -0.583482   \n",
      "\n",
      "       international_reputation  skill_long_passing  \n",
      "0                     10.525295            2.524112  \n",
      "1                     10.525295            1.126551  \n",
      "2                     10.525295            1.592404  \n",
      "3                     10.525295            1.858606  \n",
      "4                      7.830520            2.657213  \n",
      "...                         ...                 ...  \n",
      "19234                 -0.253804           -0.337561  \n",
      "19235                 -0.253804           -0.204460  \n",
      "19236                 -0.253804           -0.271010  \n",
      "19237                 -0.253804           -1.335819  \n",
      "19238                 -0.253804           -0.271010  \n",
      "\n",
      "[19239 rows x 10 columns] 0        93.0\n",
      "1        92.0\n",
      "2        91.0\n",
      "3        91.0\n",
      "4        91.0\n",
      "         ... \n",
      "19234    47.0\n",
      "19235    47.0\n",
      "19236    47.0\n",
      "19237    47.0\n",
      "19238    47.0\n",
      "Name: overall, Length: 19239, dtype: float64\n"
     ]
    }
   ],
   "source": [
    "print(X_test, y_test)"
   ]
  },
  {
   "cell_type": "code",
   "execution_count": 62,
   "id": "9c8abe23-d227-4315-9965-218ba70973bf",
   "metadata": {},
   "outputs": [
    {
     "data": {
      "text/plain": [
       "0        93.0\n",
       "1        92.0\n",
       "2        91.0\n",
       "3        91.0\n",
       "4        91.0\n",
       "         ... \n",
       "19234    47.0\n",
       "19235    47.0\n",
       "19236    47.0\n",
       "19237    47.0\n",
       "19238    47.0\n",
       "Name: overall, Length: 19239, dtype: float64"
      ]
     },
     "execution_count": 62,
     "metadata": {},
     "output_type": "execute_result"
    }
   ],
   "source": [
    "y_test"
   ]
  },
  {
   "cell_type": "code",
   "execution_count": 81,
   "id": "1ea8c86c-5361-4a13-85b8-07a2fec014a9",
   "metadata": {},
   "outputs": [
    {
     "name": "stdout",
     "output_type": "stream",
     "text": [
      "Size of prediction:  19239\n",
      "Predictions: \n",
      " [92.26021959 91.758155   90.67638059 ... 53.54534656 54.95403856\n",
      " 54.62835522]\n",
      "Test score: 0.9087\n",
      "\n"
     ]
    }
   ],
   "source": [
    "# improved_gbr is your trained GradientBoostingRegressor model\n",
    "score = improved_gbr.score(X_test, y_test)\n",
    "y_pred_22 = improved_gbr.predict(X_test)\n",
    "\n",
    "# Print the size of the prediction\n",
    "print(\"Size of prediction: \", len(y_pred_22))\n",
    "\n",
    "# Print the predictions\n",
    "print(\"Predictions: \\n\", y_pred_22)\n",
    "\n",
    "# Print the test score\n",
    "print(\"Test score: {0:.4f}\\n\".format(score))"
   ]
  },
  {
   "cell_type": "code",
   "execution_count": 82,
   "id": "zNosTFy8ahgE",
   "metadata": {
    "id": "zNosTFy8ahgE"
   },
   "outputs": [
    {
     "name": "stdout",
     "output_type": "stream",
     "text": [
      "size of prediction:  19239\n",
      "prediction: \n",
      " [91.76 91.55 90.   ... 53.96 55.08 56.11]\n",
      "test score: 0.9153\n",
      "\n"
     ]
    }
   ],
   "source": [
    "score = rf_model.score(X_test,y_test)\n",
    "y_pred_22 = rf_model.predict(X_test)\n",
    "print(\"size of prediction: \", len(rf_model.predict(X_test)))\n",
    "print(\"prediction: \\n\", rf_model.predict(X_test))\n",
    "print(\"test score: {0:.4f}\\n\".format(score))"
   ]
  },
  {
   "cell_type": "code",
   "execution_count": 83,
   "id": "AOLfd4RBamK0",
   "metadata": {
    "id": "AOLfd4RBamK0"
   },
   "outputs": [
    {
     "name": "stdout",
     "output_type": "stream",
     "text": [
      "size of prediction:  19239\n",
      "prediction: \n",
      " [92.75419387 91.60941263 91.08784486 ... 53.1154904  55.17709449\n",
      " 54.54087315]\n",
      "test score: 0.9078\n",
      "\n"
     ]
    }
   ],
   "source": [
    "score = gb_model.score(X_test,y_test)\n",
    "# Make predictions using the ensemble model\n",
    "y_pred_22 = gb_model.predict(X_test)\n",
    "print(\"size of prediction: \", len(gb_model.predict(X_test)))\n",
    "print(\"prediction: \\n\", gb_model.predict(X_test))\n",
    "print(\"test score: {0:.4f}\\n\".format(score))"
   ]
  },
  {
   "cell_type": "code",
   "execution_count": 84,
   "id": "9QKGdsztaXSn",
   "metadata": {
    "id": "9QKGdsztaXSn"
   },
   "outputs": [
    {
     "name": "stdout",
     "output_type": "stream",
     "text": [
      "size of prediction:  19239\n",
      "prediction: \n",
      " [92.14194912 91.66095255 90.40379492 ... 54.09773371 55.23353544\n",
      " 55.74402493]\n",
      "test score: 0.9106\n",
      "\n"
     ]
    }
   ],
   "source": [
    "score = ensemble.score(X_test, y_test)\n",
    "# Make predictions using the ensemble model\n",
    "y_pred_22 = ensemble.predict(X_test)\n",
    "print(\"size of prediction: \", len(ensemble.predict(X_test)))\n",
    "print(\"prediction: \\n\", ensemble.predict(X_test))\n",
    "print(\"test score: {0:.4f}\\n\".format(score))"
   ]
  },
  {
   "cell_type": "code",
   "execution_count": 85,
   "id": "P3moX8-Elw_0",
   "metadata": {
    "id": "P3moX8-Elw_0"
   },
   "outputs": [
    {
     "data": {
      "text/plain": [
       "['ensemble_model.pkl']"
      ]
     },
     "execution_count": 85,
     "metadata": {},
     "output_type": "execute_result"
    }
   ],
   "source": [
    "import joblib\n",
    "joblib.dump(ensemble,'ensemble_model.pkl')"
   ]
  },
  {
   "cell_type": "code",
   "execution_count": 86,
   "id": "8843f5d6-5f8c-4deb-ab66-87189f95a2ca",
   "metadata": {},
   "outputs": [
    {
     "data": {
      "text/plain": [
       "['scaler_model.pkl']"
      ]
     },
     "execution_count": 86,
     "metadata": {},
     "output_type": "execute_result"
    }
   ],
   "source": [
    "joblib.dump(scaler,'scaler_model.pkl')"
   ]
  },
  {
   "cell_type": "code",
   "execution_count": null,
   "id": "7f565943-3668-493a-9475-ecc6adb86207",
   "metadata": {},
   "outputs": [],
   "source": [
    " "
   ]
  },
  {
   "cell_type": "code",
   "execution_count": null,
   "id": "79224f1d-6d5f-40f5-8199-11938a27a8f6",
   "metadata": {},
   "outputs": [],
   "source": [
    " "
   ]
  }
 ],
 "metadata": {
  "colab": {
   "provenance": []
  },
  "kernelspec": {
   "display_name": "Python 3 (ipykernel)",
   "language": "python",
   "name": "python3"
  },
  "language_info": {
   "codemirror_mode": {
    "name": "ipython",
    "version": 3
   },
   "file_extension": ".py",
   "mimetype": "text/x-python",
   "name": "python",
   "nbconvert_exporter": "python",
   "pygments_lexer": "ipython3",
   "version": "3.11.7"
  }
 },
 "nbformat": 4,
 "nbformat_minor": 5
}
